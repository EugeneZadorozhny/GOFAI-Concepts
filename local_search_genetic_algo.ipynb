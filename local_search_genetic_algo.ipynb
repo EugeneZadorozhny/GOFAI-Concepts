{
 "cells": [
  {
   "cell_type": "markdown",
   "metadata": {},
   "source": [
    "## Local Search - Genetic Algorithm\n",
    "\n",
    "There are some key ideas in the Genetic Algorithm.\n",
    "\n",
    "First, there is a problem of some kind that either *is* an optimization problem or the solution can be expressed in terms of an optimization problem.\n",
    "For example, if we wanted to minimize the function\n",
    "\n",
    "$$f(x) = \\sum (x_i - 0.5)^2$$\n",
    "\n",
    "where $n = 10$.\n",
    "This *is* an optimization problem. Normally, optimization problems are much, much harder.\n",
    "\n",
    "![Eggholder](http://www.sfu.ca/~ssurjano/egg.png)!\n",
    "\n",
    "The function we wish to optimize is often called the **objective function**.\n",
    "The objective function is closely related to the **fitness** function in the GA.\n",
    "If we have a **maximization** problem, then we can use the objective function directly as a fitness function.\n",
    "If we have a **minimization** problem, then we need to convert the objective function into a suitable fitness function, since fitness functions must always mean \"more is better\".\n",
    "\n",
    "Second, we need to *encode* candidate solutions using an \"alphabet\" analogous to G, A, T, C in DNA.\n",
    "This encoding can be quite abstract.\n",
    "You saw this in the Self Check.\n",
    "There a floating point number was encoded as bits, just as in a computer and a sophisticated decoding scheme was then required.\n",
    "\n",
    "Sometimes, the encoding need not be very complicated at all.\n",
    "For example, in the real-valued GA, discussed in the Lectures, we could represent 2.73 as....2.73.\n",
    "This is similarly true for a string matching problem.\n",
    "We *could* encode \"a\" as \"a\", 97, or '01100001'.\n",
    "And then \"hello\" would be:\n",
    "\n",
    "```\n",
    "[\"h\", \"e\", \"l\", \"l\", \"o\"]\n",
    "```\n",
    "\n",
    "or\n",
    "\n",
    "```\n",
    "[104, 101, 108, 108, 111]\n",
    "```\n",
    "\n",
    "or\n",
    "\n",
    "```\n",
    "0, 1, 1, 0, 1, 0, 0, 0, 0, 1, 1, 0, 0, 1, 0, 1, 0, 1, 1, 0, 1, 1, 0, 0, 0, 1, 1, 0, 1, 1, 0, 0, 0, 1, 1, 0, 1, 1, 1, 1\n",
    "```\n",
    "\n",
    "In Genetics terminology, this is the **chromosome** of the individual. And if this individual had the **phenotype** \"h\" for the first character then they would have the **genotype** for \"h\" (either as \"h\", 104, or 01101000).\n",
    "\n",
    "To keep it straight, think **geno**type is **genes** and **pheno**type is **phenomenon**, the actual thing that the genes express.\n",
    "So while we might encode a number as 10110110 (genotype), the number itself, 182, is what goes into the fitness function.\n",
    "The environment operates on zebras, not the genes for stripes."
   ]
  },
  {
   "cell_type": "markdown",
   "metadata": {},
   "source": [
    "## String Matching\n",
    "\n",
    "You are going to write a Genetic Algorithm that will solve the problem of matching a target string.\n",
    "Now, this is kind of silly because in order for this to work, you need to know the target string and if you know the target string, why are you trying to do it?\n",
    "Well, the problem is *pedagogical*.\n",
    "It's a fun way of visualizing the GA at work, because as the GA finds better and better candidates, they make more and more sense.\n",
    "\n",
    "Now, string matching is not *directly* an optimization problem so this falls under the general category of \"if we convert the problem into an optimization problem we can solve it with an optimization algorithm\" approach to problem solving.\n",
    "This happens all the time.\n",
    "We have a problem.\n",
    "We can't solve it.\n",
    "We convert it to a problem we *can* solve.\n",
    "In this case, we're using the GA to solve the optimization part.\n",
    "\n",
    "And all we need is some sort of measure of the difference between two strings.\n",
    "We can use that measure as a **loss function**.\n",
    "A loss function gives us a score tells us how similar two strings are.\n",
    "The loss function becomes our objective function and we use the GA to minimize it by converting the objective function to a fitness function.\n",
    "So that's the first step, come up with the loss/objective function.\n",
    "The only stipulation is that it must calculate the score based on element to element (character to character) comparisons with no global transformations of the candidate or target strings.\n",
    "\n",
    "And since this is a GA, we need a **genotype**.\n",
    "The genotype for this problem is a list of \"characters\" (individual letters aren't special in Python like they are in some other languages):\n",
    "\n",
    "```\n",
    "[\"h\", \"e\", \"l\", \"l\", \"o\"]\n",
    "```\n",
    "\n",
    "and the **phenotype** is the resulting string:\n",
    "\n",
    "```\n",
    "\"hello\"\n",
    "```\n",
    "\n",
    "In addition to the generic code and problem specific loss function, you'll need to pick parameters for the run.\n",
    "These parameters include:\n",
    "\n",
    "1. population size\n",
    "2. number of generations\n",
    "3. probability of crossover\n",
    "4. probability of mutation\n",
    "\n",
    "You will also need to pick a selection algorithm, either roulette wheel or tournament selection.\n",
    "In the later case, you will need a tournament size.\n",
    "This is all part of the problem.\n",
    "\n",
    "Every **ten** (10) generations, you should print out the fitness, genotype, and phenotype of the best individual in the population for the specific generation.\n",
    "The function should return the best individual *of the entire run*, using the same format."
   ]
  },
  {
   "cell_type": "code",
   "execution_count": 32,
   "metadata": {},
   "outputs": [],
   "source": [
    "ALPHABET = \"abcdefghijklmnopqrstuvwxyz \""
   ]
  },
  {
   "cell_type": "code",
   "execution_count": 33,
   "metadata": {},
   "outputs": [],
   "source": [
    "from random import randint, sample, random\n",
    "from typing import List, Dict, Callable, Any\n",
    "from pprint import pprint"
   ]
  },
  {
   "cell_type": "markdown",
   "metadata": {},
   "source": [
    "<a id=\"genetic_algorithm\"></a>\n",
    "### genetic_algorithm\n",
    "\n",
    "`genetic_algorithm` tries to find a target string by randomly generating populations of individual phenotypes. Generations of individuals progress by reproducing and potentially mutating until the target string is found. **Uses**: [output_print](#output_print), [generate_random_population](#generate_random_population), [evaluate_fitness1](#evaluate_fitness1), [evaluate_fitness2](#evaluate_fitness2), [evaluate_fitness3](#evaluate_fitness3), [pick_parents](#pick_parents), [reproduce](#reproduce)\n",
    "\n",
    "* **population_size** int: number of individuals in the population\n",
    "* **generation_size** int: max number of generations to iterate over\n",
    "* **crossover_prob** float: probability of parents passing their genes to a child. Value: `0-1`\n",
    "* **mutation_prob** float: probability of a mutation happeing in a child. Value: `0-1`\n",
    "* **alphabet** str: string of allowable characters in a gene.\n",
    "* **target** str: target for the genetic algorithm to find.\n",
    "* **evaluate_fitness** Callable: which fitness funtion to use.\n",
    "\n",
    "**return**: List[Any]: list of statements to print"
   ]
  },
  {
   "cell_type": "code",
   "execution_count": 34,
   "metadata": {},
   "outputs": [],
   "source": [
    "def genetic_algorithm(\n",
    "    population_size: int,\n",
    "    generation_size: int,\n",
    "    crossover_prob: float,\n",
    "    mutation_prob: float,\n",
    "    alphabet: str,\n",
    "    target: str,\n",
    "    evaluate_fitness: Callable,\n",
    ") -> Dict[str, Any]:\n",
    "    population = generate_random_population(population_size, alphabet, target)\n",
    "    generation = 0\n",
    "\n",
    "    while generation < generation_size:\n",
    "        fitness = evaluate_fitness(population, alphabet, target)\n",
    "        best_individual = min(fitness)\n",
    "\n",
    "        if generation == 10:\n",
    "            generation = 0\n",
    "            print(output_print(population, fitness, best_individual))\n",
    "        if best_individual == 0:\n",
    "            print(output_print(population, fitness, best_individual))\n",
    "            return {\n",
    "                \"fitness\": best_individual,\n",
    "                \"genotype\": population[fitness.index(best_individual)],\n",
    "                \"phenotype\": \"\".join(population[fitness.index(best_individual)]),\n",
    "            }\n",
    "\n",
    "        next_population = []\n",
    "        for n in range(0, len(population) // 2):\n",
    "            parent1 = pick_parent(fitness, sample(range(0, len(population)), 10))\n",
    "            parent2 = pick_parent(fitness, sample(range(0, len(population)), 10))\n",
    "            child1, child2 = reproduce(\n",
    "                population[parent1],\n",
    "                population[parent2],\n",
    "                alphabet,\n",
    "                crossover_prob,\n",
    "                random(),\n",
    "                randint(0, (len(population[0]) - 1)),\n",
    "                mutation_prob,\n",
    "                randint(0, len(population[0]) - 1),\n",
    "                randint(0, len(population[0]) - 1),\n",
    "            )\n",
    "            next_population.append(child1)\n",
    "            next_population.append(child2)\n",
    "\n",
    "        population = next_population\n",
    "        generation += 1\n"
   ]
  },
  {
   "cell_type": "markdown",
   "metadata": {},
   "source": [
    "<a id=\"output_print\"></a>\n",
    "### output_print\n",
    "\n",
    "`output_print` prints the fitness score, genotype, and phenotype. **Used by**: [genetic_algorithm](#genetic_algorithm)\n",
    "\n",
    "* **population** List[str]: the list of the population expressed as chormosomes\n",
    "* **fitness** List[int]: fintess values of the population.\n",
    "* **best_individual** int: fitness value of an individual.\n",
    "\n",
    "**return**: List[Any]: list of statements to print"
   ]
  },
  {
   "cell_type": "code",
   "execution_count": 35,
   "metadata": {},
   "outputs": [],
   "source": [
    "def output_print(population, fitness, best_individual):\n",
    "    statements = [\n",
    "        f\"Fitness score: {best_individual}\",\n",
    "        f\"Genotype: {population[fitness.index(best_individual)]}\",\n",
    "        \"Phenotype: \" + \"\".join(population[fitness.index(best_individual)]),\n",
    "        \"\\n\",\n",
    "    ]\n",
    "    return statements"
   ]
  },
  {
   "cell_type": "code",
   "execution_count": 36,
   "metadata": {},
   "outputs": [],
   "source": [
    "p = output_print([[\"1\", \"2\", \"3\"], [\"4\", \"5\", \"6\"], [\"7\", \"8\", \"9\"]], [7, 8, 9], 7)\n",
    "assert p == [\"Fitness score: 7\", \"Genotype: ['1', '2', '3']\", \"Phenotype: 123\", \"\\n\"]\n",
    "p = output_print([[\"1\", \"2\", \"3\"], [\"4\", \"5\", \"6\"], [\"7\", \"8\", \"9\"]], [7, 8, 9], 9)\n",
    "assert p == [\"Fitness score: 9\", \"Genotype: ['7', '8', '9']\", \"Phenotype: 789\", \"\\n\"]\n",
    "p = output_print([[\"1\", \"2\", \"3\"], [\"4\", \"5\", \"6\"], [\"7\", \"8\", \"9\"]], [7, 8, 9], 8)\n",
    "assert p == [\"Fitness score: 8\", \"Genotype: ['4', '5', '6']\", \"Phenotype: 456\", \"\\n\"]"
   ]
  },
  {
   "cell_type": "markdown",
   "metadata": {},
   "source": [
    "<a id=\"generate_random_population\"></a>\n",
    "### generate_random_population\n",
    "\n",
    "`generate_random_population` produces a list of random individuals and each individual is a list of random genes. **Used by**: [genetic_algorithm](#genetic_algorithm)\n",
    "\n",
    "* **population_size** int: the number of individuals desired.\n",
    "* **alphabet** str: string of allowable characters in a gene.\n",
    "* **target** str: target for the genetic algorithm to find.\n",
    "\n",
    "**returns** List[List[str]]: the list of genes of a list individuals "
   ]
  },
  {
   "cell_type": "code",
   "execution_count": 37,
   "metadata": {},
   "outputs": [],
   "source": [
    "def generate_random_population(\n",
    "    population_size: int, alphabet: str, target: str\n",
    ") -> List[List[str]]:\n",
    "    chromosome_length = len([char for char in target])\n",
    "    alphabet_chars = [char for char in alphabet]\n",
    "    population = []\n",
    "\n",
    "    for individual in range(0, population_size):\n",
    "        new_chromosome = []\n",
    "        for gene in range(0, chromosome_length):\n",
    "            new_gene = randint(0, len(alphabet_chars) - 1)\n",
    "            new_chromosome.append(alphabet_chars[new_gene])\n",
    "        population.append(new_chromosome)\n",
    "    return population\n"
   ]
  },
  {
   "cell_type": "code",
   "execution_count": 38,
   "metadata": {},
   "outputs": [],
   "source": [
    "pop = generate_random_population(3, \"abcd\", \"ab\")\n",
    "assert len(pop) == 3 and len(pop[0]) == 2\n",
    "pop = generate_random_population(2, \"111111\", \"11\")\n",
    "assert pop == [[\"1\", \"1\"], [\"1\", \"1\"]]\n",
    "pop = generate_random_population(3, \"zzzzzz\", \"zzz\")\n",
    "assert pop == [[\"z\", \"z\", \"z\"], [\"z\", \"z\", \"z\"], [\"z\", \"z\", \"z\"]]"
   ]
  },
  {
   "cell_type": "markdown",
   "metadata": {},
   "source": [
    "<a id=\"evaluate_fitness1\"></a>\n",
    "### evaluate_fitness1\n",
    "\n",
    "`evaluate_fitness` produces a list of fitness values for individuals from a population. The fitness value is determined by comparing a gene from an individual to the gene of the target and calculating how far apart they are in the alphabet. The lower the score, the closer the individual is to the target. This function helps determine if the target has been found or which individuals should be selected as parents. **Used by**: [genetic_algorithm](#genetic_algorithm)\n",
    "\n",
    "* **population** List[str]: the list of the population expressed as chormosomes\n",
    "* **alphabet** str: string of allowable characters in a gene.\n",
    "* **target** str: target for the genetic algorithm to find.\n",
    "\n",
    "**returns** List[int]: the list of fitness values for individuals "
   ]
  },
  {
   "cell_type": "code",
   "execution_count": 39,
   "metadata": {},
   "outputs": [],
   "source": [
    "def evaluate_fitness1(population: List[str], alphabet: str, target: str) -> List[int]:\n",
    "    alphabet_chars = [char for char in alphabet]\n",
    "    target_chromosome = [char for char in target]\n",
    "    fitness = []\n",
    "\n",
    "    for individual in population:\n",
    "        fitness_score = 0\n",
    "        for gene_index, gene in enumerate(individual):\n",
    "            target_gene = target_chromosome[gene_index]\n",
    "            individual_gene = individual[gene_index]\n",
    "            fitness_score += abs(\n",
    "                alphabet_chars.index(target_gene)\n",
    "                - alphabet_chars.index(individual_gene)\n",
    "            )\n",
    "\n",
    "        fitness.append(fitness_score)\n",
    "\n",
    "    return fitness"
   ]
  },
  {
   "cell_type": "code",
   "execution_count": 40,
   "metadata": {},
   "outputs": [],
   "source": [
    "pop = [[\"c\", \"b\"], [\"a\", \"d\"], [\"c\", \"d\"]]\n",
    "f = evaluate_fitness1(pop, \"abcd\", \"cd\")\n",
    "assert f == [2, 2, 0]\n",
    "f = evaluate_fitness1(pop, \"abcd\", \"dd\")\n",
    "assert f == [3, 3, 1]\n",
    "f = evaluate_fitness1(pop, \"abcd\", \"ad\")\n",
    "assert f == [4, 0, 2]"
   ]
  },
  {
   "cell_type": "markdown",
   "metadata": {},
   "source": [
    "<a id=\"evaluate_fitness2\"></a>\n",
    "### evaluate_fitness2\n",
    "\n",
    "`evaluate_fitness2` produces a list of fitness values for individuals from a population. Fitness is determined in reverse order of the target. The fitness value is determined by comparing a gene from an individual to the gene of the target and calculating how far apart they are in the alphabet. The lower the score, the closer the individual is to the target. This function helps determine if the target has been found or which individuals should be selected as parents. **Used by**: [genetic_algorithm](#genetic_algorithm)\n",
    "\n",
    "* **population** List[str]: the list of the population expressed as chormosomes\n",
    "* **alphabet** str: string of allowable characters in a gene.\n",
    "* **target** str: target for the genetic algorithm to find.\n",
    "\n",
    "**returns** List[int]: the list of fitness values for individuals "
   ]
  },
  {
   "cell_type": "code",
   "execution_count": 41,
   "metadata": {},
   "outputs": [],
   "source": [
    "def evaluate_fitness2(population: List[str], alphabet: str, target: str) -> List[int]:\n",
    "    alphabet_chars = [char for char in alphabet]\n",
    "    target_chromosome = [char for char in target]\n",
    "    fitness = []\n",
    "\n",
    "    for individual in population:\n",
    "        fitness_score = 0\n",
    "        for gene_index, gene in enumerate(individual):\n",
    "            target_gene = target_chromosome[len(individual) - gene_index - 1]\n",
    "            individual_gene = individual[gene_index]\n",
    "            fitness_score += abs(\n",
    "                alphabet_chars.index(target_gene)\n",
    "                - alphabet_chars.index(individual_gene)\n",
    "            )\n",
    "\n",
    "        fitness.append(fitness_score)\n",
    "\n",
    "    return fitness"
   ]
  },
  {
   "cell_type": "code",
   "execution_count": 42,
   "metadata": {},
   "outputs": [],
   "source": [
    "pop = [[\"c\", \"b\"], [\"a\", \"d\"], [\"c\", \"d\"]]\n",
    "f = evaluate_fitness2(pop, \"abcd\", \"cd\")\n",
    "assert f == [2, 4, 2]\n",
    "f = evaluate_fitness2(pop, \"abcd\", \"dd\")\n",
    "assert f == [3, 3, 1]\n",
    "f = evaluate_fitness2(pop, \"abcd\", \"ad\")\n",
    "assert f == [2, 6, 4]"
   ]
  },
  {
   "cell_type": "markdown",
   "metadata": {},
   "source": [
    "<a id=\"evaluate_fitness3\"></a>\n",
    "### evaluate_fitness3\n",
    "\n",
    "`evaluate_fitness3` produces a list of fitness values for individuals from a population. Fitness is determined for ROT13. The fitness value is determined by comparing a gene from an individual to the gene of the target and calculating how far apart they are in the alphabet. The lower the score, the closer the individual is to the target. This function helps determine if the target has been found or which individuals should be selected as parents. **Used by**: [genetic_algorithm](#genetic_algorithm)\n",
    "\n",
    "* **population** List[str]: the list of the population expressed as chormosomes\n",
    "* **alphabet** str: string of allowable characters in a gene.\n",
    "* **target** str: target for the genetic algorithm to find.\n",
    "\n",
    "**returns** List[int]: the list of fitness values for individuals "
   ]
  },
  {
   "cell_type": "code",
   "execution_count": 43,
   "metadata": {},
   "outputs": [],
   "source": [
    "def evaluate_fitness3(population: List[str], alphabet: str, target: str) -> List[int]:\n",
    "    alphabet_chars = [char for char in alphabet]\n",
    "    target_chromosome = [char for char in target]\n",
    "    fitness = []\n",
    "\n",
    "    for individual in population:\n",
    "        fitness_score = 0\n",
    "        for gene_index, gene in enumerate(individual):\n",
    "            target_gene = target_chromosome[gene_index]\n",
    "            individual_gene = individual[gene_index]\n",
    "            fitness_score += abs(\n",
    "                ((alphabet_chars.index(target_gene) + 13) % len(alphabet))\n",
    "                - alphabet_chars.index(individual_gene)\n",
    "            )\n",
    "\n",
    "        fitness.append(fitness_score)\n",
    "\n",
    "    return fitness"
   ]
  },
  {
   "cell_type": "code",
   "execution_count": 44,
   "metadata": {},
   "outputs": [],
   "source": [
    "pop = [[\"c\", \"b\"], [\"a\", \"d\"], [\"c\", \"d\"]]\n",
    "f = evaluate_fitness3(pop, \"abcd\", \"cd\")\n",
    "assert f == [2, 6, 4]\n",
    "f = evaluate_fitness3(pop, \"abcd\", \"dd\")\n",
    "assert f == [3, 3, 5]\n",
    "f = evaluate_fitness3(pop, \"abcd\", \"ad\")\n",
    "assert f == [2, 4, 4]"
   ]
  },
  {
   "cell_type": "markdown",
   "metadata": {},
   "source": [
    "<a id=\"pick_parents\"></a>\n",
    "### pick_parents\n",
    "\n",
    "`pick_parents` picks an individual from the population to be a parent to the next generation. Individual is identified using a tournament style system, where a list of random individuals of a specified length gets sorted to find the most fit candidate to be a parent. **Used by**: [genetic_algorithm](#genetic_algorithm)\n",
    "\n",
    "* **fitness** List[int]: list of the fitness values for each individual.\n",
    "* **rand_fn** List[int]: list of indecies for tournament selection.\n",
    "\n",
    "**returns** int: index of the individual chosen"
   ]
  },
  {
   "cell_type": "code",
   "execution_count": 45,
   "metadata": {},
   "outputs": [],
   "source": [
    "def pick_parent(fitness: List[int], rand_fn: List[int]) -> int:\n",
    "    chosen = []\n",
    "    for index in rand_fn:\n",
    "        chosen.append(fitness[index])\n",
    "    best = rand_fn[chosen.index(min(chosen))]\n",
    "    return best"
   ]
  },
  {
   "cell_type": "code",
   "execution_count": 46,
   "metadata": {},
   "outputs": [],
   "source": [
    "pop = [[\"c\", \"b\"], [\"a\", \"d\"], [\"c\", \"d\"]]\n",
    "f = evaluate_fitness1(pop, \"abcd\", \"ad\")\n",
    "parent = pick_parent(f, [1, 2, 2])\n",
    "assert parent == 1\n",
    "parent = pick_parent(f, [0, 2, 2])\n",
    "assert parent == 2\n",
    "parent = pick_parent(f, [0, 2, 0])\n",
    "assert parent == 2"
   ]
  },
  {
   "cell_type": "markdown",
   "metadata": {},
   "source": [
    "<a id=\"apply_crossover\"></a>\n",
    "### apply_crossover\n",
    "\n",
    "`apply_crossover` takes 2 parents performs gene crossover. Crossover happens at a random gene location. **Used by**: [reproduce](#reproduce)\n",
    "\n",
    "* **parent1** List[int]: list of genes of parent1.\n",
    "* **parent2** List[int]: list of genes of parent2.\n",
    "* **rand_crossover_op** int: location of gene where crossover should happen\n",
    "\n",
    "**returns** List[List[str],List[str]]: the 2 individuals that will be part of the next generation"
   ]
  },
  {
   "cell_type": "code",
   "execution_count": 47,
   "metadata": {},
   "outputs": [],
   "source": [
    "def apply_crossover(\n",
    "    parent1: List[str], parent2: List[str], rand_crossover_op: int\n",
    ") -> [List[str], List[str]]:\n",
    "    child1 = parent1[:rand_crossover_op] + parent2[rand_crossover_op:]\n",
    "    child2 = parent2[:rand_crossover_op] + parent1[rand_crossover_op:]\n",
    "    return child1, child2\n"
   ]
  },
  {
   "cell_type": "code",
   "execution_count": 48,
   "metadata": {},
   "outputs": [],
   "source": [
    "c = apply_crossover([\"1\", \"2\", \"3\"], [\"4\", \"5\", \"6\"], 2)\n",
    "assert c == ([\"1\", \"2\", \"6\"], [\"4\", \"5\", \"3\"])\n",
    "c = apply_crossover([\"1\", \"2\", \"3\"], [\"4\", \"5\", \"6\"], 3)\n",
    "assert c == ([\"1\", \"2\", \"3\"], [\"4\", \"5\", \"6\"])\n",
    "c = apply_crossover([\"1\", \"2\", \"3\"], [\"4\", \"5\", \"6\"], 0)\n",
    "assert c == ([\"4\", \"5\", \"6\"], [\"1\", \"2\", \"3\"])"
   ]
  },
  {
   "cell_type": "markdown",
   "metadata": {},
   "source": [
    "<a id=\"apply_mutation\"></a>\n",
    "### apply_mutation\n",
    "\n",
    "`apply_mutation` applies a random mutation to a random gene. **Used by**: [reproduce](#reproduce)\n",
    "\n",
    "* **child** List[int]: list of genes of an individual.\n",
    "* **alphabet** str: string of allowable characters in a gene.\n",
    "* **rand_gene** int: location of gene where mutation should happen\n",
    "\n",
    "**returns** List[str]: the individual with a mutated gene"
   ]
  },
  {
   "cell_type": "code",
   "execution_count": 49,
   "metadata": {},
   "outputs": [],
   "source": [
    "def apply_mutation(\n",
    "    child: List[str], alphabet: str, rand_gene: int, rand_char: int\n",
    ") -> List[str]:\n",
    "    alphabet_chars = [char for char in alphabet]\n",
    "    child[rand_gene] = alphabet_chars[rand_char]\n",
    "    return child\n"
   ]
  },
  {
   "cell_type": "code",
   "execution_count": 50,
   "metadata": {},
   "outputs": [],
   "source": [
    "c = apply_mutation([\"1\", \"2\", \"3\"], \"456\", 1, 1)\n",
    "assert c == [\"1\", \"5\", \"3\"]\n",
    "c = apply_mutation([\"1\", \"2\", \"3\"], \"456\", 0, 2)\n",
    "assert c == [\"6\", \"2\", \"3\"]\n",
    "c = apply_mutation([\"1\", \"2\", \"3\"], \"456\", 2, 0)\n",
    "assert c == [\"1\", \"2\", \"4\"]"
   ]
  },
  {
   "cell_type": "markdown",
   "metadata": {},
   "source": [
    "<a id=\"reproduce\"></a>\n",
    "### reproduce\n",
    "\n",
    "`reproduce` takes 2 parents and determines if they will cross their genes or be returned back to the population. Also applies a mutation to a gene if required by the mutation probability. This is the way the algorithm changes the population to search for the target answer.  **Used by**: [genetic_algorithm](#genetic_algorithm) **Uses**: [apply_crossover](#apply_crossover), [apply_mutation](#apply_mutation)\n",
    "\n",
    "* **parent1** List[int]: list of genes of parent1.\n",
    "* **parent2** List[int]: list of genes of parent2.\n",
    "* **alphabet** str: string of allowable characters in a gene.\n",
    "* **crossover_prob** float: the chance parents will create children. Value: `0-1`\n",
    "* **rand_cross_over_chance** float: the value assigned to the parents to be compared against for potential crossover. Value: `0-1`\n",
    "* **rand_crossover_op** int: location of gene where crossover should happen\n",
    "* **mutation_prob** float: probability of a mutation occuring after crossover. Value: `0-1`\n",
    "* **rand_mutation1** float: random number assigned to child 1 to see if mutation will occur. Value: `0-1`\n",
    "* **rand_mutation2** float: random number assigned to child 2 to see if mutation will occur. Value: `0-1`\n",
    "\n",
    "**returns** List[List[str],List[str]]: the 2 individuals that will be part of the next generation"
   ]
  },
  {
   "cell_type": "code",
   "execution_count": 51,
   "metadata": {},
   "outputs": [],
   "source": [
    "def reproduce(\n",
    "    parent1: List[str],\n",
    "    parent2: List[str],\n",
    "    alphabet: str,\n",
    "    crossover_prob: float,\n",
    "    rand_crossover_chance: float,\n",
    "    rand_crossover_op: int,\n",
    "    mutation_prob: float,\n",
    "    rand_mutation1: float,\n",
    "    rand_mutation2: float,\n",
    ") -> [List[str], List[str]]:\n",
    "    if rand_crossover_chance > crossover_prob:\n",
    "        return parent1, parent2\n",
    "\n",
    "    child1, child2 = apply_crossover(parent1, parent2, rand_crossover_op)\n",
    "\n",
    "    if rand_mutation1 < mutation_prob:\n",
    "        child1 = apply_mutation(\n",
    "            child1, alphabet, randint(0, len(child1) - 1), randint(0, len(alphabet) - 1)\n",
    "        )\n",
    "    if rand_mutation2 < mutation_prob:\n",
    "        child2 = apply_mutation(\n",
    "            child2, alphabet, randint(0, len(child2) - 1), randint(0, len(alphabet) - 1)\n",
    "        )\n",
    "\n",
    "    return child1, child2\n"
   ]
  },
  {
   "cell_type": "code",
   "execution_count": 52,
   "metadata": {},
   "outputs": [],
   "source": [
    "c1, c2 = reproduce([\"1\", \"2\", \"3\"], [\"4\", \"5\", \"6\"], \"123456789\", 1, 1, 1, 1, 1, 1)\n",
    "assert c1 == [\"1\", \"5\", \"6\"]\n",
    "assert c2 == [\"4\", \"2\", \"3\"]\n",
    "c1, c2 = reproduce([\"1\", \"2\", \"3\"], [\"4\", \"5\", \"6\"], \"123456789\", 1, 1, 1, 1, 1, 1)\n",
    "assert c1 == [\"1\", \"5\", \"6\"]\n",
    "assert c2 == [\"4\", \"2\", \"3\"]\n",
    "c1, c2 = reproduce([\"1\", \"2\", \"3\"], [\"4\", \"5\", \"6\"], \"123456789\", 1, 1, 1, 1, 1, 1)\n",
    "assert c1 == [\"1\", \"5\", \"6\"]\n",
    "assert c2 == [\"4\", \"2\", \"3\"]"
   ]
  },
  {
   "cell_type": "markdown",
   "metadata": {},
   "source": [
    "## Problem 1\n",
    "\n",
    "The target is the string \"this is so much fun\".\n",
    "The challenge, aside from implementing the basic algorithm, is deriving a fitness function based on \"b\" - \"p\" (for example).\n",
    "The fitness function should come up with a fitness score based on element to element comparisons between target v. phenotype."
   ]
  },
  {
   "cell_type": "code",
   "execution_count": 53,
   "metadata": {},
   "outputs": [],
   "source": [
    "target1 = \"this is so much fun\""
   ]
  },
  {
   "cell_type": "code",
   "execution_count": 54,
   "metadata": {},
   "outputs": [
    {
     "name": "stdout",
     "output_type": "stream",
     "text": [
      "['Fitness score: 48', \"Genotype: ['t', 'c', 'n', 'r', 'm', 'j', 'r', 'z', 'o', 'm', 'z', 'l', 't', 'b', 'k', 'y', 'j', 'v', 'n']\", 'Phenotype: tcnrmjrzomzltbkyjvn', '\\n']\n",
      "['Fitness score: 42', \"Genotype: ['t', 'c', 'n', 'r', 'm', 'j', 'r', 'z', 'r', 'm', 'z', 'l', 't', 'b', 'h', 'y', 'j', 'v', 'n']\", 'Phenotype: tcnrmjrzrmzltbhyjvn', '\\n']\n",
      "['Fitness score: 39', \"Genotype: ['t', 'c', 'g', 'r', 'm', 'j', 'r', 'z', 'r', 'm', 'z', 'l', 't', 'b', 'h', 'y', 'j', 'v', 'n']\", 'Phenotype: tcgrmjrzrmzltbhyjvn', '\\n']\n",
      "['Fitness score: 35', \"Genotype: ['t', 'k', 'g', 'r', 'm', 'j', 'r', ' ', 'r', 'p', 'z', 'l', 't', 'b', 'h', 'y', 'j', 'v', 'n']\", 'Phenotype: tkgrmjr rpzltbhyjvn', '\\n']\n",
      "['Fitness score: 29', \"Genotype: ['t', 'h', 'g', 'r', 'm', 'j', 'r', ' ', 'r', 'p', ' ', 'l', 'u', 'b', 'h', 'y', 'j', 'u', 'n']\", 'Phenotype: thgrmjr rp lubhyjun', '\\n']\n",
      "['Fitness score: 14', \"Genotype: ['t', 'h', 'g', 'r', ' ', 'j', 'r', ' ', 'r', 'p', ' ', 'l', 'u', 'c', 'h', 'y', 'j', 'u', 'n']\", 'Phenotype: thgr jr rp luchyjun', '\\n']\n",
      "['Fitness score: 14', \"Genotype: ['t', 'h', 'g', 'r', ' ', 'j', 'r', ' ', 'r', 'p', ' ', 'l', 'u', 'c', 'h', 'y', 'j', 'u', 'n']\", 'Phenotype: thgr jr rp luchyjun', '\\n']\n",
      "['Fitness score: 14', \"Genotype: ['t', 'h', 'g', 'r', ' ', 'j', 'r', ' ', 'r', 'p', ' ', 'l', 'u', 'c', 'h', 'y', 'j', 'u', 'n']\", 'Phenotype: thgr jr rp luchyjun', '\\n']\n",
      "['Fitness score: 13', \"Genotype: ['t', 'h', 'g', 'r', ' ', 'j', 'r', ' ', 'r', 'p', ' ', 'l', 'u', 'c', 'h', 'y', 'c', 'u', 'n']\", 'Phenotype: thgr jr rp luchycun', '\\n']\n",
      "['Fitness score: 13', \"Genotype: ['t', 'h', 'g', 'r', ' ', 'j', 'r', ' ', 'r', 'p', ' ', 'l', 'u', 'c', 'h', 'y', 'c', 'u', 'n']\", 'Phenotype: thgr jr rp luchycun', '\\n']\n",
      "['Fitness score: 11', \"Genotype: ['t', 'h', 'g', 'r', ' ', 'j', 'r', ' ', 'r', 'p', ' ', 'l', 'u', 'c', 'h', 'y', 'g', 'u', 'n']\", 'Phenotype: thgr jr rp luchygun', '\\n']\n",
      "['Fitness score: 10', \"Genotype: ['t', 'h', 'g', 'r', ' ', 'j', 'r', ' ', 's', 'p', ' ', 'l', 'u', 'c', 'h', 'y', 'g', 'u', 'n']\", 'Phenotype: thgr jr sp luchygun', '\\n']\n",
      "['Fitness score: 9', \"Genotype: ['t', 'h', 'g', 's', ' ', 'j', 'r', ' ', 's', 'p', ' ', 'l', 'u', 'c', 'h', 'y', 'g', 'u', 'n']\", 'Phenotype: thgs jr sp luchygun', '\\n']\n",
      "['Fitness score: 9', \"Genotype: ['t', 'h', 'g', 's', ' ', 'j', 'r', ' ', 's', 'p', ' ', 'l', 'u', 'c', 'h', 'y', 'g', 'u', 'n']\", 'Phenotype: thgs jr sp luchygun', '\\n']\n",
      "['Fitness score: 9', \"Genotype: ['t', 'h', 'g', 's', ' ', 'j', 'r', ' ', 's', 'p', ' ', 'l', 'u', 'c', 'h', 'y', 'g', 'u', 'n']\", 'Phenotype: thgs jr sp luchygun', '\\n']\n",
      "['Fitness score: 9', \"Genotype: ['t', 'h', 'g', 's', ' ', 'j', 'r', ' ', 's', 'p', ' ', 'l', 'u', 'c', 'h', 'y', 'g', 'u', 'n']\", 'Phenotype: thgs jr sp luchygun', '\\n']\n",
      "['Fitness score: 9', \"Genotype: ['t', 'h', 'g', 's', ' ', 'j', 'r', ' ', 's', 'p', ' ', 'l', 'u', 'c', 'h', 'y', 'g', 'u', 'n']\", 'Phenotype: thgs jr sp luchygun', '\\n']\n",
      "['Fitness score: 9', \"Genotype: ['t', 'h', 'g', 's', ' ', 'j', 'r', ' ', 's', 'p', ' ', 'l', 'u', 'c', 'h', 'y', 'g', 'u', 'n']\", 'Phenotype: thgs jr sp luchygun', '\\n']\n",
      "['Fitness score: 9', \"Genotype: ['t', 'h', 'g', 's', ' ', 'j', 'r', ' ', 's', 'p', ' ', 'l', 'u', 'c', 'h', 'y', 'g', 'u', 'n']\", 'Phenotype: thgs jr sp luchygun', '\\n']\n",
      "['Fitness score: 9', \"Genotype: ['t', 'h', 'g', 's', ' ', 'j', 'r', ' ', 's', 'p', ' ', 'l', 'u', 'c', 'h', 'y', 'g', 'u', 'n']\", 'Phenotype: thgs jr sp luchygun', '\\n']\n",
      "['Fitness score: 9', \"Genotype: ['t', 'h', 'g', 's', ' ', 'j', 'r', ' ', 's', 'p', ' ', 'l', 'u', 'c', 'h', 'y', 'g', 'u', 'n']\", 'Phenotype: thgs jr sp luchygun', '\\n']\n",
      "['Fitness score: 9', \"Genotype: ['t', 'h', 'g', 's', ' ', 'j', 'r', ' ', 's', 'p', ' ', 'l', 'u', 'c', 'h', 'y', 'g', 'u', 'n']\", 'Phenotype: thgs jr sp luchygun', '\\n']\n",
      "['Fitness score: 9', \"Genotype: ['t', 'h', 'g', 's', ' ', 'j', 'r', ' ', 's', 'p', ' ', 'l', 'u', 'c', 'h', 'y', 'g', 'u', 'n']\", 'Phenotype: thgs jr sp luchygun', '\\n']\n",
      "['Fitness score: 7', \"Genotype: ['t', 'h', 'i', 's', ' ', 'j', 'r', ' ', 's', 'p', ' ', 'l', 'u', 'c', 'h', 'y', 'g', 'u', 'n']\", 'Phenotype: this jr sp luchygun', '\\n']\n",
      "['Fitness score: 7', \"Genotype: ['t', 'h', 'i', 's', ' ', 'j', 'r', ' ', 's', 'p', ' ', 'l', 'u', 'c', 'h', 'y', 'g', 'u', 'n']\", 'Phenotype: this jr sp luchygun', '\\n']\n",
      "['Fitness score: 5', \"Genotype: ['t', 'h', 'i', 's', ' ', 'j', 'r', ' ', 's', 'p', ' ', 'l', 'u', 'c', 'h', ' ', 'g', 'u', 'n']\", 'Phenotype: this jr sp luch gun', '\\n']\n",
      "['Fitness score: 5', \"Genotype: ['t', 'h', 'i', 's', ' ', 'j', 'r', ' ', 's', 'p', ' ', 'l', 'u', 'c', 'h', ' ', 'g', 'u', 'n']\", 'Phenotype: this jr sp luch gun', '\\n']\n",
      "['Fitness score: 4', \"Genotype: ['t', 'h', 'i', 's', ' ', 'i', 'r', ' ', 's', 'p', ' ', 'l', 'u', 'c', 'h', ' ', 'g', 'u', 'n']\", 'Phenotype: this ir sp luch gun', '\\n']\n",
      "['Fitness score: 4', \"Genotype: ['t', 'h', 'i', 's', ' ', 'i', 'r', ' ', 's', 'p', ' ', 'l', 'u', 'c', 'h', ' ', 'g', 'u', 'n']\", 'Phenotype: this ir sp luch gun', '\\n']\n",
      "['Fitness score: 4', \"Genotype: ['t', 'h', 'i', 's', ' ', 'i', 'r', ' ', 's', 'p', ' ', 'l', 'u', 'c', 'h', ' ', 'g', 'u', 'n']\", 'Phenotype: this ir sp luch gun', '\\n']\n",
      "['Fitness score: 3', \"Genotype: ['t', 'h', 'i', 's', ' ', 'i', 'r', ' ', 's', 'p', ' ', 'm', 'u', 'c', 'h', ' ', 'g', 'u', 'n']\", 'Phenotype: this ir sp much gun', '\\n']\n",
      "['Fitness score: 3', \"Genotype: ['t', 'h', 'i', 's', ' ', 'i', 'r', ' ', 's', 'p', ' ', 'm', 'u', 'c', 'h', ' ', 'g', 'u', 'n']\", 'Phenotype: this ir sp much gun', '\\n']\n",
      "['Fitness score: 3', \"Genotype: ['t', 'h', 'i', 's', ' ', 'i', 'r', ' ', 's', 'p', ' ', 'm', 'u', 'c', 'h', ' ', 'g', 'u', 'n']\", 'Phenotype: this ir sp much gun', '\\n']\n",
      "['Fitness score: 3', \"Genotype: ['t', 'h', 'i', 's', ' ', 'i', 'r', ' ', 's', 'p', ' ', 'm', 'u', 'c', 'h', ' ', 'g', 'u', 'n']\", 'Phenotype: this ir sp much gun', '\\n']\n",
      "['Fitness score: 3', \"Genotype: ['t', 'h', 'i', 's', ' ', 'i', 'r', ' ', 's', 'p', ' ', 'm', 'u', 'c', 'h', ' ', 'g', 'u', 'n']\", 'Phenotype: this ir sp much gun', '\\n']\n",
      "['Fitness score: 2', \"Genotype: ['t', 'h', 'i', 's', ' ', 'i', 'r', ' ', 's', 'p', ' ', 'm', 'u', 'c', 'h', ' ', 'f', 'u', 'n']\", 'Phenotype: this ir sp much fun', '\\n']\n",
      "['Fitness score: 2', \"Genotype: ['t', 'h', 'i', 's', ' ', 'i', 'r', ' ', 's', 'p', ' ', 'm', 'u', 'c', 'h', ' ', 'f', 'u', 'n']\", 'Phenotype: this ir sp much fun', '\\n']\n",
      "['Fitness score: 2', \"Genotype: ['t', 'h', 'i', 's', ' ', 'i', 'r', ' ', 's', 'p', ' ', 'm', 'u', 'c', 'h', ' ', 'f', 'u', 'n']\", 'Phenotype: this ir sp much fun', '\\n']\n",
      "['Fitness score: 2', \"Genotype: ['t', 'h', 'i', 's', ' ', 'i', 'r', ' ', 's', 'p', ' ', 'm', 'u', 'c', 'h', ' ', 'f', 'u', 'n']\", 'Phenotype: this ir sp much fun', '\\n']\n",
      "['Fitness score: 2', \"Genotype: ['t', 'h', 'i', 's', ' ', 'i', 'r', ' ', 's', 'p', ' ', 'm', 'u', 'c', 'h', ' ', 'f', 'u', 'n']\", 'Phenotype: this ir sp much fun', '\\n']\n",
      "['Fitness score: 2', \"Genotype: ['t', 'h', 'i', 's', ' ', 'i', 'r', ' ', 's', 'p', ' ', 'm', 'u', 'c', 'h', ' ', 'f', 'u', 'n']\", 'Phenotype: this ir sp much fun', '\\n']\n",
      "['Fitness score: 2', \"Genotype: ['t', 'h', 'i', 's', ' ', 'i', 'r', ' ', 's', 'p', ' ', 'm', 'u', 'c', 'h', ' ', 'f', 'u', 'n']\", 'Phenotype: this ir sp much fun', '\\n']\n",
      "['Fitness score: 2', \"Genotype: ['t', 'h', 'i', 's', ' ', 'i', 'r', ' ', 's', 'p', ' ', 'm', 'u', 'c', 'h', ' ', 'f', 'u', 'n']\", 'Phenotype: this ir sp much fun', '\\n']\n",
      "['Fitness score: 2', \"Genotype: ['t', 'h', 'i', 's', ' ', 'i', 'r', ' ', 's', 'p', ' ', 'm', 'u', 'c', 'h', ' ', 'f', 'u', 'n']\", 'Phenotype: this ir sp much fun', '\\n']\n",
      "['Fitness score: 2', \"Genotype: ['t', 'h', 'i', 's', ' ', 'i', 'r', ' ', 's', 'p', ' ', 'm', 'u', 'c', 'h', ' ', 'f', 'u', 'n']\", 'Phenotype: this ir sp much fun', '\\n']\n",
      "['Fitness score: 2', \"Genotype: ['t', 'h', 'i', 's', ' ', 'i', 'r', ' ', 's', 'p', ' ', 'm', 'u', 'c', 'h', ' ', 'f', 'u', 'n']\", 'Phenotype: this ir sp much fun', '\\n']\n",
      "['Fitness score: 2', \"Genotype: ['t', 'h', 'i', 's', ' ', 'i', 'r', ' ', 's', 'p', ' ', 'm', 'u', 'c', 'h', ' ', 'f', 'u', 'n']\", 'Phenotype: this ir sp much fun', '\\n']\n",
      "['Fitness score: 2', \"Genotype: ['t', 'h', 'i', 's', ' ', 'i', 'r', ' ', 's', 'p', ' ', 'm', 'u', 'c', 'h', ' ', 'f', 'u', 'n']\", 'Phenotype: this ir sp much fun', '\\n']\n",
      "['Fitness score: 2', \"Genotype: ['t', 'h', 'i', 's', ' ', 'i', 'r', ' ', 's', 'p', ' ', 'm', 'u', 'c', 'h', ' ', 'f', 'u', 'n']\", 'Phenotype: this ir sp much fun', '\\n']\n",
      "['Fitness score: 2', \"Genotype: ['t', 'h', 'i', 's', ' ', 'i', 'r', ' ', 's', 'p', ' ', 'm', 'u', 'c', 'h', ' ', 'f', 'u', 'n']\", 'Phenotype: this ir sp much fun', '\\n']\n",
      "['Fitness score: 2', \"Genotype: ['t', 'h', 'i', 's', ' ', 'i', 'r', ' ', 's', 'p', ' ', 'm', 'u', 'c', 'h', ' ', 'f', 'u', 'n']\", 'Phenotype: this ir sp much fun', '\\n']\n",
      "['Fitness score: 2', \"Genotype: ['t', 'h', 'i', 's', ' ', 'i', 'r', ' ', 's', 'p', ' ', 'm', 'u', 'c', 'h', ' ', 'f', 'u', 'n']\", 'Phenotype: this ir sp much fun', '\\n']\n",
      "['Fitness score: 2', \"Genotype: ['t', 'h', 'i', 's', ' ', 'i', 'r', ' ', 's', 'p', ' ', 'm', 'u', 'c', 'h', ' ', 'f', 'u', 'n']\", 'Phenotype: this ir sp much fun', '\\n']\n",
      "['Fitness score: 2', \"Genotype: ['t', 'h', 'i', 's', ' ', 'i', 'r', ' ', 's', 'p', ' ', 'm', 'u', 'c', 'h', ' ', 'f', 'u', 'n']\", 'Phenotype: this ir sp much fun', '\\n']\n",
      "['Fitness score: 2', \"Genotype: ['t', 'h', 'i', 's', ' ', 'i', 'r', ' ', 's', 'p', ' ', 'm', 'u', 'c', 'h', ' ', 'f', 'u', 'n']\", 'Phenotype: this ir sp much fun', '\\n']\n",
      "['Fitness score: 2', \"Genotype: ['t', 'h', 'i', 's', ' ', 'i', 'r', ' ', 's', 'p', ' ', 'm', 'u', 'c', 'h', ' ', 'f', 'u', 'n']\", 'Phenotype: this ir sp much fun', '\\n']\n",
      "['Fitness score: 1', \"Genotype: ['t', 'h', 'i', 's', ' ', 'i', 's', ' ', 's', 'p', ' ', 'm', 'u', 'c', 'h', ' ', 'f', 'u', 'n']\", 'Phenotype: this is sp much fun', '\\n']\n",
      "['Fitness score: 1', \"Genotype: ['t', 'h', 'i', 's', ' ', 'i', 's', ' ', 's', 'p', ' ', 'm', 'u', 'c', 'h', ' ', 'f', 'u', 'n']\", 'Phenotype: this is sp much fun', '\\n']\n",
      "['Fitness score: 1', \"Genotype: ['t', 'h', 'i', 's', ' ', 'i', 's', ' ', 's', 'p', ' ', 'm', 'u', 'c', 'h', ' ', 'f', 'u', 'n']\", 'Phenotype: this is sp much fun', '\\n']\n",
      "['Fitness score: 1', \"Genotype: ['t', 'h', 'i', 's', ' ', 'i', 's', ' ', 's', 'p', ' ', 'm', 'u', 'c', 'h', ' ', 'f', 'u', 'n']\", 'Phenotype: this is sp much fun', '\\n']\n",
      "['Fitness score: 1', \"Genotype: ['t', 'h', 'i', 's', ' ', 'i', 's', ' ', 's', 'p', ' ', 'm', 'u', 'c', 'h', ' ', 'f', 'u', 'n']\", 'Phenotype: this is sp much fun', '\\n']\n",
      "['Fitness score: 1', \"Genotype: ['t', 'h', 'i', 's', ' ', 'i', 's', ' ', 's', 'p', ' ', 'm', 'u', 'c', 'h', ' ', 'f', 'u', 'n']\", 'Phenotype: this is sp much fun', '\\n']\n",
      "['Fitness score: 1', \"Genotype: ['t', 'h', 'i', 's', ' ', 'i', 's', ' ', 's', 'p', ' ', 'm', 'u', 'c', 'h', ' ', 'f', 'u', 'n']\", 'Phenotype: this is sp much fun', '\\n']\n",
      "['Fitness score: 1', \"Genotype: ['t', 'h', 'i', 's', ' ', 'i', 's', ' ', 's', 'p', ' ', 'm', 'u', 'c', 'h', ' ', 'f', 'u', 'n']\", 'Phenotype: this is sp much fun', '\\n']\n",
      "['Fitness score: 1', \"Genotype: ['t', 'h', 'i', 's', ' ', 'i', 's', ' ', 's', 'p', ' ', 'm', 'u', 'c', 'h', ' ', 'f', 'u', 'n']\", 'Phenotype: this is sp much fun', '\\n']\n",
      "['Fitness score: 1', \"Genotype: ['t', 'h', 'i', 's', ' ', 'i', 's', ' ', 's', 'p', ' ', 'm', 'u', 'c', 'h', ' ', 'f', 'u', 'n']\", 'Phenotype: this is sp much fun', '\\n']\n",
      "['Fitness score: 1', \"Genotype: ['t', 'h', 'i', 's', ' ', 'i', 's', ' ', 's', 'p', ' ', 'm', 'u', 'c', 'h', ' ', 'f', 'u', 'n']\", 'Phenotype: this is sp much fun', '\\n']\n",
      "['Fitness score: 1', \"Genotype: ['t', 'h', 'i', 's', ' ', 'i', 's', ' ', 's', 'p', ' ', 'm', 'u', 'c', 'h', ' ', 'f', 'u', 'n']\", 'Phenotype: this is sp much fun', '\\n']\n",
      "['Fitness score: 1', \"Genotype: ['t', 'h', 'i', 's', ' ', 'i', 's', ' ', 's', 'p', ' ', 'm', 'u', 'c', 'h', ' ', 'f', 'u', 'n']\", 'Phenotype: this is sp much fun', '\\n']\n",
      "['Fitness score: 1', \"Genotype: ['t', 'h', 'i', 's', ' ', 'i', 's', ' ', 's', 'p', ' ', 'm', 'u', 'c', 'h', ' ', 'f', 'u', 'n']\", 'Phenotype: this is sp much fun', '\\n']\n",
      "['Fitness score: 1', \"Genotype: ['t', 'h', 'i', 's', ' ', 'i', 's', ' ', 's', 'p', ' ', 'm', 'u', 'c', 'h', ' ', 'f', 'u', 'n']\", 'Phenotype: this is sp much fun', '\\n']\n",
      "['Fitness score: 1', \"Genotype: ['t', 'h', 'i', 's', ' ', 'i', 's', ' ', 's', 'p', ' ', 'm', 'u', 'c', 'h', ' ', 'f', 'u', 'n']\", 'Phenotype: this is sp much fun', '\\n']\n",
      "['Fitness score: 1', \"Genotype: ['t', 'h', 'i', 's', ' ', 'i', 's', ' ', 's', 'p', ' ', 'm', 'u', 'c', 'h', ' ', 'f', 'u', 'n']\", 'Phenotype: this is sp much fun', '\\n']\n",
      "['Fitness score: 1', \"Genotype: ['t', 'h', 'i', 's', ' ', 'i', 's', ' ', 's', 'p', ' ', 'm', 'u', 'c', 'h', ' ', 'f', 'u', 'n']\", 'Phenotype: this is sp much fun', '\\n']\n",
      "['Fitness score: 1', \"Genotype: ['t', 'h', 'i', 's', ' ', 'i', 's', ' ', 's', 'p', ' ', 'm', 'u', 'c', 'h', ' ', 'f', 'u', 'n']\", 'Phenotype: this is sp much fun', '\\n']\n",
      "['Fitness score: 1', \"Genotype: ['t', 'h', 'i', 's', ' ', 'i', 's', ' ', 's', 'p', ' ', 'm', 'u', 'c', 'h', ' ', 'f', 'u', 'n']\", 'Phenotype: this is sp much fun', '\\n']\n",
      "['Fitness score: 1', \"Genotype: ['t', 'h', 'i', 's', ' ', 'i', 's', ' ', 's', 'p', ' ', 'm', 'u', 'c', 'h', ' ', 'f', 'u', 'n']\", 'Phenotype: this is sp much fun', '\\n']\n"
     ]
    },
    {
     "name": "stdout",
     "output_type": "stream",
     "text": [
      "['Fitness score: 1', \"Genotype: ['t', 'h', 'i', 's', ' ', 'i', 's', ' ', 's', 'p', ' ', 'm', 'u', 'c', 'h', ' ', 'f', 'u', 'n']\", 'Phenotype: this is sp much fun', '\\n']\n",
      "['Fitness score: 1', \"Genotype: ['t', 'h', 'i', 's', ' ', 'i', 's', ' ', 's', 'p', ' ', 'm', 'u', 'c', 'h', ' ', 'f', 'u', 'n']\", 'Phenotype: this is sp much fun', '\\n']\n",
      "['Fitness score: 1', \"Genotype: ['t', 'h', 'i', 's', ' ', 'i', 's', ' ', 's', 'p', ' ', 'm', 'u', 'c', 'h', ' ', 'f', 'u', 'n']\", 'Phenotype: this is sp much fun', '\\n']\n",
      "['Fitness score: 1', \"Genotype: ['t', 'h', 'i', 's', ' ', 'i', 's', ' ', 's', 'p', ' ', 'm', 'u', 'c', 'h', ' ', 'f', 'u', 'n']\", 'Phenotype: this is sp much fun', '\\n']\n",
      "['Fitness score: 1', \"Genotype: ['t', 'h', 'i', 's', ' ', 'i', 's', ' ', 's', 'p', ' ', 'm', 'u', 'c', 'h', ' ', 'f', 'u', 'n']\", 'Phenotype: this is sp much fun', '\\n']\n",
      "['Fitness score: 1', \"Genotype: ['t', 'h', 'i', 's', ' ', 'i', 's', ' ', 's', 'p', ' ', 'm', 'u', 'c', 'h', ' ', 'f', 'u', 'n']\", 'Phenotype: this is sp much fun', '\\n']\n",
      "['Fitness score: 1', \"Genotype: ['t', 'h', 'i', 's', ' ', 'i', 's', ' ', 's', 'p', ' ', 'm', 'u', 'c', 'h', ' ', 'f', 'u', 'n']\", 'Phenotype: this is sp much fun', '\\n']\n",
      "['Fitness score: 1', \"Genotype: ['t', 'h', 'i', 's', ' ', 'i', 's', ' ', 's', 'p', ' ', 'm', 'u', 'c', 'h', ' ', 'f', 'u', 'n']\", 'Phenotype: this is sp much fun', '\\n']\n",
      "['Fitness score: 1', \"Genotype: ['t', 'h', 'i', 's', ' ', 'i', 's', ' ', 's', 'p', ' ', 'm', 'u', 'c', 'h', ' ', 'f', 'u', 'n']\", 'Phenotype: this is sp much fun', '\\n']\n",
      "['Fitness score: 1', \"Genotype: ['t', 'h', 'i', 's', ' ', 'i', 's', ' ', 's', 'p', ' ', 'm', 'u', 'c', 'h', ' ', 'f', 'u', 'n']\", 'Phenotype: this is sp much fun', '\\n']\n",
      "['Fitness score: 1', \"Genotype: ['t', 'h', 'i', 's', ' ', 'i', 's', ' ', 's', 'p', ' ', 'm', 'u', 'c', 'h', ' ', 'f', 'u', 'n']\", 'Phenotype: this is sp much fun', '\\n']\n",
      "['Fitness score: 1', \"Genotype: ['t', 'h', 'i', 's', ' ', 'i', 's', ' ', 's', 'p', ' ', 'm', 'u', 'c', 'h', ' ', 'f', 'u', 'n']\", 'Phenotype: this is sp much fun', '\\n']\n",
      "['Fitness score: 1', \"Genotype: ['t', 'h', 'i', 's', ' ', 'i', 's', ' ', 's', 'p', ' ', 'm', 'u', 'c', 'h', ' ', 'f', 'u', 'n']\", 'Phenotype: this is sp much fun', '\\n']\n",
      "['Fitness score: 1', \"Genotype: ['t', 'h', 'i', 's', ' ', 'i', 's', ' ', 's', 'p', ' ', 'm', 'u', 'c', 'h', ' ', 'f', 'u', 'n']\", 'Phenotype: this is sp much fun', '\\n']\n",
      "['Fitness score: 1', \"Genotype: ['t', 'h', 'i', 's', ' ', 'i', 's', ' ', 's', 'p', ' ', 'm', 'u', 'c', 'h', ' ', 'f', 'u', 'n']\", 'Phenotype: this is sp much fun', '\\n']\n",
      "['Fitness score: 1', \"Genotype: ['t', 'h', 'i', 's', ' ', 'i', 's', ' ', 's', 'p', ' ', 'm', 'u', 'c', 'h', ' ', 'f', 'u', 'n']\", 'Phenotype: this is sp much fun', '\\n']\n",
      "['Fitness score: 1', \"Genotype: ['t', 'h', 'i', 's', ' ', 'i', 's', ' ', 's', 'p', ' ', 'm', 'u', 'c', 'h', ' ', 'f', 'u', 'n']\", 'Phenotype: this is sp much fun', '\\n']\n",
      "['Fitness score: 1', \"Genotype: ['t', 'h', 'i', 's', ' ', 'i', 's', ' ', 's', 'p', ' ', 'm', 'u', 'c', 'h', ' ', 'f', 'u', 'n']\", 'Phenotype: this is sp much fun', '\\n']\n",
      "['Fitness score: 1', \"Genotype: ['t', 'h', 'i', 's', ' ', 'i', 's', ' ', 's', 'p', ' ', 'm', 'u', 'c', 'h', ' ', 'f', 'u', 'n']\", 'Phenotype: this is sp much fun', '\\n']\n",
      "['Fitness score: 1', \"Genotype: ['t', 'h', 'i', 's', ' ', 'i', 's', ' ', 's', 'p', ' ', 'm', 'u', 'c', 'h', ' ', 'f', 'u', 'n']\", 'Phenotype: this is sp much fun', '\\n']\n",
      "['Fitness score: 1', \"Genotype: ['t', 'h', 'i', 's', ' ', 'i', 's', ' ', 's', 'p', ' ', 'm', 'u', 'c', 'h', ' ', 'f', 'u', 'n']\", 'Phenotype: this is sp much fun', '\\n']\n",
      "['Fitness score: 1', \"Genotype: ['t', 'h', 'i', 's', ' ', 'i', 's', ' ', 's', 'p', ' ', 'm', 'u', 'c', 'h', ' ', 'f', 'u', 'n']\", 'Phenotype: this is sp much fun', '\\n']\n",
      "['Fitness score: 1', \"Genotype: ['t', 'h', 'i', 's', ' ', 'i', 's', ' ', 's', 'p', ' ', 'm', 'u', 'c', 'h', ' ', 'f', 'u', 'n']\", 'Phenotype: this is sp much fun', '\\n']\n",
      "['Fitness score: 1', \"Genotype: ['t', 'h', 'i', 's', ' ', 'i', 's', ' ', 's', 'p', ' ', 'm', 'u', 'c', 'h', ' ', 'f', 'u', 'n']\", 'Phenotype: this is sp much fun', '\\n']\n",
      "['Fitness score: 1', \"Genotype: ['t', 'h', 'i', 's', ' ', 'i', 's', ' ', 's', 'p', ' ', 'm', 'u', 'c', 'h', ' ', 'f', 'u', 'n']\", 'Phenotype: this is sp much fun', '\\n']\n",
      "['Fitness score: 1', \"Genotype: ['t', 'h', 'i', 's', ' ', 'i', 's', ' ', 's', 'p', ' ', 'm', 'u', 'c', 'h', ' ', 'f', 'u', 'n']\", 'Phenotype: this is sp much fun', '\\n']\n",
      "['Fitness score: 1', \"Genotype: ['t', 'h', 'i', 's', ' ', 'i', 's', ' ', 's', 'p', ' ', 'm', 'u', 'c', 'h', ' ', 'f', 'u', 'n']\", 'Phenotype: this is sp much fun', '\\n']\n",
      "['Fitness score: 1', \"Genotype: ['t', 'h', 'i', 's', ' ', 'i', 's', ' ', 's', 'p', ' ', 'm', 'u', 'c', 'h', ' ', 'f', 'u', 'n']\", 'Phenotype: this is sp much fun', '\\n']\n",
      "['Fitness score: 1', \"Genotype: ['t', 'h', 'i', 's', ' ', 'i', 's', ' ', 's', 'n', ' ', 'm', 'u', 'c', 'h', ' ', 'f', 'u', 'n']\", 'Phenotype: this is sn much fun', '\\n']\n",
      "['Fitness score: 1', \"Genotype: ['t', 'h', 'i', 's', ' ', 'i', 's', ' ', 's', 'p', ' ', 'm', 'u', 'c', 'h', ' ', 'f', 'u', 'n']\", 'Phenotype: this is sp much fun', '\\n']\n",
      "['Fitness score: 1', \"Genotype: ['t', 'h', 'i', 's', ' ', 'i', 's', ' ', 's', 'p', ' ', 'm', 'u', 'c', 'h', ' ', 'f', 'u', 'n']\", 'Phenotype: this is sp much fun', '\\n']\n",
      "['Fitness score: 1', \"Genotype: ['t', 'h', 'i', 's', ' ', 'i', 's', ' ', 's', 'n', ' ', 'm', 'u', 'c', 'h', ' ', 'f', 'u', 'n']\", 'Phenotype: this is sn much fun', '\\n']\n",
      "['Fitness score: 1', \"Genotype: ['t', 'h', 'i', 's', ' ', 'i', 's', ' ', 's', 'n', ' ', 'm', 'u', 'c', 'h', ' ', 'f', 'u', 'n']\", 'Phenotype: this is sn much fun', '\\n']\n",
      "['Fitness score: 1', \"Genotype: ['t', 'h', 'i', 's', ' ', 'i', 's', ' ', 's', 'n', ' ', 'm', 'u', 'c', 'h', ' ', 'f', 'u', 'n']\", 'Phenotype: this is sn much fun', '\\n']\n",
      "['Fitness score: 1', \"Genotype: ['t', 'h', 'i', 's', ' ', 'i', 's', ' ', 's', 'n', ' ', 'm', 'u', 'c', 'h', ' ', 'f', 'u', 'n']\", 'Phenotype: this is sn much fun', '\\n']\n",
      "['Fitness score: 1', \"Genotype: ['t', 'h', 'i', 's', ' ', 'i', 's', ' ', 's', 'n', ' ', 'm', 'u', 'c', 'h', ' ', 'f', 'u', 'n']\", 'Phenotype: this is sn much fun', '\\n']\n",
      "['Fitness score: 1', \"Genotype: ['t', 'h', 'i', 's', ' ', 'i', 's', ' ', 's', 'n', ' ', 'm', 'u', 'c', 'h', ' ', 'f', 'u', 'n']\", 'Phenotype: this is sn much fun', '\\n']\n",
      "['Fitness score: 1', \"Genotype: ['t', 'h', 'i', 's', ' ', 'i', 's', ' ', 's', 'p', ' ', 'm', 'u', 'c', 'h', ' ', 'f', 'u', 'n']\", 'Phenotype: this is sp much fun', '\\n']\n",
      "['Fitness score: 1', \"Genotype: ['t', 'h', 'i', 's', ' ', 'i', 's', ' ', 's', 'n', ' ', 'm', 'u', 'c', 'h', ' ', 'f', 'u', 'n']\", 'Phenotype: this is sn much fun', '\\n']\n",
      "['Fitness score: 0', \"Genotype: ['t', 'h', 'i', 's', ' ', 'i', 's', ' ', 's', 'o', ' ', 'm', 'u', 'c', 'h', ' ', 'f', 'u', 'n']\", 'Phenotype: this is so much fun', '\\n']\n"
     ]
    }
   ],
   "source": [
    "result1 = genetic_algorithm(100, 10000, 0.8, 0.05, ALPHABET, target1, evaluate_fitness1)"
   ]
  },
  {
   "cell_type": "code",
   "execution_count": 55,
   "metadata": {},
   "outputs": [
    {
     "name": "stdout",
     "output_type": "stream",
     "text": [
      "{'fitness': 0,\n",
      " 'genotype': ['t', 'h', 'i', 's', ' ', 'i', 's', ' ', 's', 'o', ' ', 'm', 'u',\n",
      "              'c', 'h', ' ', 'f', 'u', 'n'],\n",
      " 'phenotype': 'this is so much fun'}\n"
     ]
    }
   ],
   "source": [
    "pprint(result1, compact=True)"
   ]
  },
  {
   "cell_type": "markdown",
   "metadata": {},
   "source": [
    "## Problem 2\n",
    "\n",
    "You should have working code now.\n",
    "The goal here is to think a bit more about fitness functions.\n",
    "The target string is, 'nuf hcum os si siht'.\n",
    "This is obviously target #1 but reversed.\n",
    "The goal is then to derive a \"gene vs gene\" fitness function (although I am not specifying which gene against which gene).\n",
    "(You may not reverse the target or the candidate, either before fitness evaluation or afterwards).\n",
    "\n",
    "<div style=\"background: lemonchiffon; margin:20px; padding: 20px;\">\n",
    "    <strong>Important</strong>\n",
    "    <p>\n",
    "        You may not reverse an entire string (either target or candidate) at any time.\n",
    "        Everything must be a computation of one gene against one gene (one letter against one letter).\n",
    "        Failure to follow these directions will result in 0 points for the problem.\n",
    "    </p>\n",
    "</div>\n",
    "\n",
    "The best individual in the population is the one who expresses this string *forwards*."
   ]
  },
  {
   "cell_type": "code",
   "execution_count": 56,
   "metadata": {},
   "outputs": [],
   "source": [
    "target2 = \"nuf hcum os si siht\""
   ]
  },
  {
   "cell_type": "code",
   "execution_count": 57,
   "metadata": {},
   "outputs": [
    {
     "name": "stdout",
     "output_type": "stream",
     "text": [
      "['Fitness score: 35', \"Genotype: ['r', 'n', 'i', 's', 'z', 'j', 'r', 'z', 'r', 't', 'z', 'i', 'v', 'd', 'l', ' ', 'd', 's', 'p']\", 'Phenotype: rniszjrzrtzivdl dsp', '\\n']\n",
      "['Fitness score: 28', \"Genotype: ['r', 'f', 'i', 's', 'z', 'j', 'r', 'z', 'r', 't', 'z', 'k', 'v', 'd', 'k', ' ', 'd', 's', 'p']\", 'Phenotype: rfiszjrzrtzkvdk dsp', '\\n']\n",
      "['Fitness score: 25', \"Genotype: ['r', 'f', 'i', 's', 'z', 'j', 'r', 'z', 'r', 't', 'z', 'k', 'u', 'd', 'k', ' ', 'd', 'v', 'o']\", 'Phenotype: rfiszjrzrtzkudk dvo', '\\n']\n",
      "['Fitness score: 21', \"Genotype: ['r', 'f', 'i', 's', 'z', 'j', 'r', 'z', 'r', 'l', 'z', 'n', 'u', 'd', 'k', ' ', 'd', 'u', 'o']\", 'Phenotype: rfiszjrzrlznudk duo', '\\n']\n",
      "['Fitness score: 20', \"Genotype: ['r', 'f', 'i', 's', 'z', 'j', 'r', 'z', 'r', 'm', 'z', 'n', 'u', 'd', 'k', ' ', 'd', 'u', 'o']\", 'Phenotype: rfiszjrzrmznudk duo', '\\n']\n",
      "['Fitness score: 20', \"Genotype: ['r', 'f', 'i', 's', 'z', 'j', 'r', 'z', 'r', 'm', 'z', 'n', 'u', 'd', 'k', ' ', 'd', 'u', 'o']\", 'Phenotype: rfiszjrzrmznudk duo', '\\n']\n",
      "['Fitness score: 19', \"Genotype: ['r', 'f', 'i', 's', 'z', 'j', 'r', 'z', 'r', 'm', 'z', 'n', 'u', 'd', 'j', ' ', 'd', 'u', 'o']\", 'Phenotype: rfiszjrzrmznudj duo', '\\n']\n",
      "['Fitness score: 16', \"Genotype: ['r', 'f', 'i', 's', 'z', 'j', 'r', 'z', 's', 'm', 'z', 'n', 'u', 'd', 'j', ' ', 'e', 'u', 'n']\", 'Phenotype: rfiszjrzsmznudj eun', '\\n']\n",
      "['Fitness score: 15', \"Genotype: ['r', 'f', 'i', 's', 'z', 'i', 'r', 'z', 's', 'm', 'z', 'n', 'u', 'd', 'j', ' ', 'e', 'u', 'n']\", 'Phenotype: rfiszirzsmznudj eun', '\\n']\n",
      "['Fitness score: 12', \"Genotype: ['r', 'h', 'i', 's', 'z', 'i', 'r', 'z', 's', 'm', 'z', 'n', 'u', 'c', 'j', ' ', 'e', 'u', 'n']\", 'Phenotype: rhiszirzsmznucj eun', '\\n']\n",
      "['Fitness score: 10', \"Genotype: ['t', 'h', 'i', 's', 'z', 'i', 'r', 'z', 's', 'm', 'z', 'n', 'u', 'c', 'j', ' ', 'e', 'u', 'n']\", 'Phenotype: thiszirzsmznucj eun', '\\n']\n",
      "['Fitness score: 10', \"Genotype: ['t', 'h', 'i', 's', 'z', 'i', 'r', 'z', 's', 'm', 'z', 'n', 'u', 'c', 'j', ' ', 'e', 'u', 'n']\", 'Phenotype: thiszirzsmznucj eun', '\\n']\n",
      "['Fitness score: 9', \"Genotype: ['t', 'h', 'i', 's', ' ', 'i', 'r', 'z', 's', 'm', 'z', 'n', 'u', 'c', 'j', ' ', 'e', 'u', 'n']\", 'Phenotype: this irzsmznucj eun', '\\n']\n",
      "['Fitness score: 6', \"Genotype: ['t', 'h', 'i', 's', ' ', 'i', 'r', 'z', 's', 'm', 'z', 'n', 'u', 'c', 'h', ' ', 'f', 'u', 'n']\", 'Phenotype: this irzsmznuch fun', '\\n']\n",
      "['Fitness score: 6', \"Genotype: ['t', 'h', 'i', 's', ' ', 'i', 'r', 'z', 's', 'm', 'z', 'n', 'u', 'c', 'h', ' ', 'f', 'u', 'n']\", 'Phenotype: this irzsmznuch fun', '\\n']\n",
      "['Fitness score: 6', \"Genotype: ['t', 'h', 'i', 's', ' ', 'i', 'r', 'z', 's', 'm', 'z', 'n', 'u', 'c', 'h', ' ', 'f', 'u', 'n']\", 'Phenotype: this irzsmznuch fun', '\\n']\n",
      "['Fitness score: 5', \"Genotype: ['t', 'h', 'i', 's', ' ', 'i', 'r', 'z', 's', 'n', 'z', 'n', 'u', 'c', 'h', ' ', 'f', 'u', 'n']\", 'Phenotype: this irzsnznuch fun', '\\n']\n",
      "['Fitness score: 4', \"Genotype: ['t', 'h', 'i', 's', ' ', 'i', 's', 'z', 's', 'n', 'z', 'n', 'u', 'c', 'h', ' ', 'f', 'u', 'n']\", 'Phenotype: this iszsnznuch fun', '\\n']\n",
      "['Fitness score: 2', \"Genotype: ['t', 'h', 'i', 's', ' ', 'i', 's', ' ', 's', 'n', 'z', 'm', 'u', 'c', 'h', ' ', 'f', 'u', 'n']\", 'Phenotype: this is snzmuch fun', '\\n']\n",
      "['Fitness score: 2', \"Genotype: ['t', 'h', 'i', 's', ' ', 'i', 's', ' ', 's', 'n', 'z', 'm', 'u', 'c', 'h', ' ', 'f', 'u', 'n']\", 'Phenotype: this is snzmuch fun', '\\n']\n",
      "['Fitness score: 2', \"Genotype: ['t', 'h', 'i', 's', ' ', 'i', 's', ' ', 's', 'n', 'z', 'm', 'u', 'c', 'h', ' ', 'f', 'u', 'n']\", 'Phenotype: this is snzmuch fun', '\\n']\n",
      "['Fitness score: 2', \"Genotype: ['t', 'h', 'i', 's', ' ', 'i', 's', ' ', 's', 'n', 'z', 'm', 'u', 'c', 'h', ' ', 'f', 'u', 'n']\", 'Phenotype: this is snzmuch fun', '\\n']\n",
      "['Fitness score: 2', \"Genotype: ['t', 'h', 'i', 's', ' ', 'i', 's', ' ', 's', 'n', 'z', 'm', 'u', 'c', 'h', ' ', 'f', 'u', 'n']\", 'Phenotype: this is snzmuch fun', '\\n']\n",
      "['Fitness score: 2', \"Genotype: ['t', 'h', 'i', 's', ' ', 'i', 's', ' ', 's', 'n', 'z', 'm', 'u', 'c', 'h', ' ', 'f', 'u', 'n']\", 'Phenotype: this is snzmuch fun', '\\n']\n",
      "['Fitness score: 2', \"Genotype: ['t', 'h', 'i', 's', ' ', 'i', 's', ' ', 's', 'n', 'z', 'm', 'u', 'c', 'h', ' ', 'f', 'u', 'n']\", 'Phenotype: this is snzmuch fun', '\\n']\n",
      "['Fitness score: 1', \"Genotype: ['t', 'h', 'i', 's', ' ', 'i', 's', ' ', 's', 'n', ' ', 'm', 'u', 'c', 'h', ' ', 'f', 'u', 'n']\", 'Phenotype: this is sn much fun', '\\n']\n",
      "['Fitness score: 1', \"Genotype: ['t', 'h', 'i', 's', ' ', 'i', 's', ' ', 's', 'n', ' ', 'm', 'u', 'c', 'h', ' ', 'f', 'u', 'n']\", 'Phenotype: this is sn much fun', '\\n']\n",
      "['Fitness score: 1', \"Genotype: ['t', 'h', 'i', 's', ' ', 'i', 's', ' ', 's', 'n', ' ', 'm', 'u', 'c', 'h', ' ', 'f', 'u', 'n']\", 'Phenotype: this is sn much fun', '\\n']\n",
      "['Fitness score: 1', \"Genotype: ['t', 'h', 'i', 's', ' ', 'i', 's', ' ', 's', 'n', ' ', 'm', 'u', 'c', 'h', ' ', 'f', 'u', 'n']\", 'Phenotype: this is sn much fun', '\\n']\n",
      "['Fitness score: 1', \"Genotype: ['t', 'h', 'i', 's', ' ', 'i', 's', ' ', 's', 'n', ' ', 'm', 'u', 'c', 'h', ' ', 'f', 'u', 'n']\", 'Phenotype: this is sn much fun', '\\n']\n",
      "['Fitness score: 1', \"Genotype: ['t', 'h', 'i', 's', ' ', 'i', 's', ' ', 's', 'n', ' ', 'm', 'u', 'c', 'h', ' ', 'f', 'u', 'n']\", 'Phenotype: this is sn much fun', '\\n']\n",
      "['Fitness score: 1', \"Genotype: ['t', 'h', 'i', 's', ' ', 'i', 's', ' ', 's', 'n', ' ', 'm', 'u', 'c', 'h', ' ', 'f', 'u', 'n']\", 'Phenotype: this is sn much fun', '\\n']\n",
      "['Fitness score: 1', \"Genotype: ['t', 'h', 'i', 's', ' ', 'i', 's', ' ', 's', 'n', ' ', 'm', 'u', 'c', 'h', ' ', 'f', 'u', 'n']\", 'Phenotype: this is sn much fun', '\\n']\n",
      "['Fitness score: 1', \"Genotype: ['t', 'h', 'i', 's', ' ', 'i', 's', ' ', 's', 'n', ' ', 'm', 'u', 'c', 'h', ' ', 'f', 'u', 'n']\", 'Phenotype: this is sn much fun', '\\n']\n",
      "['Fitness score: 1', \"Genotype: ['t', 'h', 'i', 's', ' ', 'i', 's', ' ', 's', 'n', ' ', 'm', 'u', 'c', 'h', ' ', 'f', 'u', 'n']\", 'Phenotype: this is sn much fun', '\\n']\n",
      "['Fitness score: 0', \"Genotype: ['t', 'h', 'i', 's', ' ', 'i', 's', ' ', 's', 'o', ' ', 'm', 'u', 'c', 'h', ' ', 'f', 'u', 'n']\", 'Phenotype: this is so much fun', '\\n']\n"
     ]
    }
   ],
   "source": [
    "result2 = genetic_algorithm(100, 10000, 0.8, 0.05, ALPHABET, target2, evaluate_fitness2)"
   ]
  },
  {
   "cell_type": "code",
   "execution_count": 58,
   "metadata": {},
   "outputs": [
    {
     "name": "stdout",
     "output_type": "stream",
     "text": [
      "{'fitness': 0,\n",
      " 'genotype': ['t', 'h', 'i', 's', ' ', 'i', 's', ' ', 's', 'o', ' ', 'm', 'u',\n",
      "              'c', 'h', ' ', 'f', 'u', 'n'],\n",
      " 'phenotype': 'this is so much fun'}\n"
     ]
    }
   ],
   "source": [
    "pprint(result2, compact=True)"
   ]
  },
  {
   "cell_type": "markdown",
   "metadata": {},
   "source": [
    "## Problem 3\n",
    "\n",
    "This is a variation on a theme.\n",
    "The Caeser Cypher replaces each letter of a string with the letter 13 characters down alphabet (rotating from \"z\" back to \"a\" as needed).\n",
    "This is also known as ROT13 (for \"rotate 13\").\n",
    "Latin did not have spaces (and the space is not continguous with the letters a-z) so we'll remove them from our alphabet.\n",
    "Again, the goal is to derive a \"gene vs gene\" fitness function, without global transformations.\n",
    "\n",
    "<div style=\"background: lemonchiffon; margin:20px; padding: 20px;\">\n",
    "    <strong>Important</strong>\n",
    "    <p>\n",
    "        You may not apply ROT13 to an entire string (either target or candidate) at any time.\n",
    "        Everything must be a computation of one gene against one gene.\n",
    "        Failure to follow these directions will result in 0 points for the problem.\n",
    "    </p>\n",
    "</div>\n",
    "\n",
    "The best individual will express the target *decoded*."
   ]
  },
  {
   "cell_type": "code",
   "execution_count": 59,
   "metadata": {},
   "outputs": [],
   "source": [
    "ALPHABET3 = \"abcdefghijklmnopqrstuvwxyz\""
   ]
  },
  {
   "cell_type": "code",
   "execution_count": 60,
   "metadata": {},
   "outputs": [],
   "source": [
    "target3 = \"guvfvffbzhpusha\""
   ]
  },
  {
   "cell_type": "code",
   "execution_count": 61,
   "metadata": {},
   "outputs": [
    {
     "name": "stdout",
     "output_type": "stream",
     "text": [
      "['Fitness score: 21', \"Genotype: ['r', 'k', 'i', 's', 'g', 'q', 'u', 'o', 'm', 'u', 'd', 'e', 'e', 'x', 'l']\", 'Phenotype: rkisgquomudeexl', '\\n']\n",
      "['Fitness score: 17', \"Genotype: ['r', 'g', 'i', 's', 'g', 'q', 'q', 'o', 'm', 'u', 'd', 'e', 'e', 't', 'l']\", 'Phenotype: rgisgqqomudeetl', '\\n']\n",
      "['Fitness score: 10', \"Genotype: ['s', 'g', 'i', 's', 'i', 'r', 'q', 'o', 'm', 'u', 'd', 'g', 'e', 't', 'm']\", 'Phenotype: sgisirqomudgetm', '\\n']\n",
      "['Fitness score: 8', \"Genotype: ['s', 'g', 'i', 's', 'i', 'r', 'q', 'o', 'm', 'u', 'd', 'h', 'e', 't', 'n']\", 'Phenotype: sgisirqomudhetn', '\\n']\n",
      "['Fitness score: 6', \"Genotype: ['t', 'g', 'i', 's', 'i', 'r', 'q', 'o', 'm', 'u', 'c', 'h', 'e', 't', 'n']\", 'Phenotype: tgisirqomuchetn', '\\n']\n",
      "['Fitness score: 6', \"Genotype: ['t', 'g', 'i', 's', 'i', 'r', 'q', 'o', 'm', 'u', 'c', 'h', 'e', 't', 'n']\", 'Phenotype: tgisirqomuchetn', '\\n']\n",
      "['Fitness score: 5', \"Genotype: ['t', 'g', 'i', 's', 'i', 'r', 'q', 'o', 'm', 'u', 'c', 'h', 'f', 't', 'n']\", 'Phenotype: tgisirqomuchftn', '\\n']\n"
     ]
    },
    {
     "name": "stdout",
     "output_type": "stream",
     "text": [
      "['Fitness score: 5', \"Genotype: ['t', 'g', 'i', 's', 'i', 'r', 'q', 'o', 'm', 'u', 'c', 'h', 'f', 't', 'n']\", 'Phenotype: tgisirqomuchftn', '\\n']\n",
      "['Fitness score: 5', \"Genotype: ['t', 'g', 'i', 's', 'i', 'r', 'q', 'o', 'm', 'u', 'c', 'h', 'f', 't', 'n']\", 'Phenotype: tgisirqomuchftn', '\\n']\n",
      "['Fitness score: 5', \"Genotype: ['t', 'g', 'i', 's', 'i', 'r', 'q', 'o', 'm', 'u', 'c', 'h', 'f', 't', 'n']\", 'Phenotype: tgisirqomuchftn', '\\n']\n",
      "['Fitness score: 5', \"Genotype: ['t', 'g', 'i', 's', 'i', 'r', 'q', 'o', 'm', 'u', 'c', 'h', 'f', 't', 'n']\", 'Phenotype: tgisirqomuchftn', '\\n']\n",
      "['Fitness score: 4', \"Genotype: ['t', 'g', 'i', 's', 'i', 'r', 'r', 'o', 'm', 'u', 'c', 'h', 'f', 't', 'n']\", 'Phenotype: tgisirromuchftn', '\\n']\n",
      "['Fitness score: 3', \"Genotype: ['t', 'g', 'i', 's', 'i', 's', 'r', 'o', 'm', 'u', 'c', 'h', 'f', 't', 'n']\", 'Phenotype: tgisisromuchftn', '\\n']\n",
      "['Fitness score: 3', \"Genotype: ['t', 'g', 'i', 's', 'i', 's', 'r', 'o', 'm', 'u', 'c', 'h', 'f', 't', 'n']\", 'Phenotype: tgisisromuchftn', '\\n']\n",
      "['Fitness score: 3', \"Genotype: ['t', 'g', 'i', 's', 'i', 's', 'r', 'o', 'm', 'u', 'c', 'h', 'f', 't', 'n']\", 'Phenotype: tgisisromuchftn', '\\n']\n",
      "['Fitness score: 3', \"Genotype: ['t', 'g', 'i', 's', 'i', 's', 'r', 'o', 'm', 'u', 'c', 'h', 'f', 't', 'n']\", 'Phenotype: tgisisromuchftn', '\\n']\n",
      "['Fitness score: 3', \"Genotype: ['t', 'g', 'i', 's', 'i', 's', 'r', 'o', 'm', 'u', 'c', 'h', 'f', 't', 'n']\", 'Phenotype: tgisisromuchftn', '\\n']\n",
      "['Fitness score: 3', \"Genotype: ['t', 'g', 'i', 's', 'i', 's', 'r', 'o', 'm', 'u', 'c', 'h', 'f', 't', 'n']\", 'Phenotype: tgisisromuchftn', '\\n']\n",
      "['Fitness score: 2', \"Genotype: ['t', 'g', 'i', 's', 'i', 's', 'r', 'o', 'm', 'u', 'c', 'h', 'f', 'u', 'n']\", 'Phenotype: tgisisromuchfun', '\\n']\n",
      "['Fitness score: 1', \"Genotype: ['t', 'g', 'i', 's', 'i', 's', 's', 'o', 'm', 'u', 'c', 'h', 'f', 'u', 'n']\", 'Phenotype: tgisissomuchfun', '\\n']\n",
      "['Fitness score: 1', \"Genotype: ['t', 'g', 'i', 's', 'i', 's', 's', 'o', 'm', 'u', 'c', 'h', 'f', 'u', 'n']\", 'Phenotype: tgisissomuchfun', '\\n']\n",
      "['Fitness score: 1', \"Genotype: ['t', 'g', 'i', 's', 'i', 's', 's', 'o', 'm', 'u', 'c', 'h', 'f', 'u', 'n']\", 'Phenotype: tgisissomuchfun', '\\n']\n",
      "['Fitness score: 1', \"Genotype: ['t', 'g', 'i', 's', 'i', 's', 's', 'o', 'm', 'u', 'c', 'h', 'f', 'u', 'n']\", 'Phenotype: tgisissomuchfun', '\\n']\n",
      "['Fitness score: 1', \"Genotype: ['t', 'g', 'i', 's', 'i', 's', 's', 'o', 'm', 'u', 'c', 'h', 'f', 'u', 'n']\", 'Phenotype: tgisissomuchfun', '\\n']\n",
      "['Fitness score: 1', \"Genotype: ['t', 'g', 'i', 's', 'i', 's', 's', 'o', 'm', 'u', 'c', 'h', 'f', 'u', 'n']\", 'Phenotype: tgisissomuchfun', '\\n']\n",
      "['Fitness score: 1', \"Genotype: ['t', 'g', 'i', 's', 'i', 's', 's', 'o', 'm', 'u', 'c', 'h', 'f', 'u', 'n']\", 'Phenotype: tgisissomuchfun', '\\n']\n",
      "['Fitness score: 1', \"Genotype: ['t', 'g', 'i', 's', 'i', 's', 's', 'o', 'm', 'u', 'c', 'h', 'f', 'u', 'n']\", 'Phenotype: tgisissomuchfun', '\\n']\n",
      "['Fitness score: 1', \"Genotype: ['t', 'g', 'i', 's', 'i', 's', 's', 'o', 'm', 'u', 'c', 'h', 'f', 'u', 'n']\", 'Phenotype: tgisissomuchfun', '\\n']\n",
      "['Fitness score: 1', \"Genotype: ['t', 'g', 'i', 's', 'i', 's', 's', 'o', 'm', 'u', 'c', 'h', 'f', 'u', 'n']\", 'Phenotype: tgisissomuchfun', '\\n']\n",
      "['Fitness score: 1', \"Genotype: ['t', 'g', 'i', 's', 'i', 's', 's', 'o', 'm', 'u', 'c', 'h', 'f', 'u', 'n']\", 'Phenotype: tgisissomuchfun', '\\n']\n",
      "['Fitness score: 1', \"Genotype: ['t', 'g', 'i', 's', 'i', 's', 's', 'o', 'm', 'u', 'c', 'h', 'f', 'u', 'n']\", 'Phenotype: tgisissomuchfun', '\\n']\n",
      "['Fitness score: 1', \"Genotype: ['t', 'g', 'i', 's', 'i', 's', 's', 'o', 'm', 'u', 'c', 'h', 'f', 'u', 'n']\", 'Phenotype: tgisissomuchfun', '\\n']\n",
      "['Fitness score: 1', \"Genotype: ['t', 'g', 'i', 's', 'i', 's', 's', 'o', 'm', 'u', 'c', 'h', 'f', 'u', 'n']\", 'Phenotype: tgisissomuchfun', '\\n']\n",
      "['Fitness score: 1', \"Genotype: ['t', 'g', 'i', 's', 'i', 's', 's', 'o', 'm', 'u', 'c', 'h', 'f', 'u', 'n']\", 'Phenotype: tgisissomuchfun', '\\n']\n",
      "['Fitness score: 1', \"Genotype: ['t', 'g', 'i', 's', 'i', 's', 's', 'o', 'm', 'u', 'c', 'h', 'f', 'u', 'n']\", 'Phenotype: tgisissomuchfun', '\\n']\n",
      "['Fitness score: 1', \"Genotype: ['t', 'g', 'i', 's', 'i', 's', 's', 'o', 'm', 'u', 'c', 'h', 'f', 'u', 'n']\", 'Phenotype: tgisissomuchfun', '\\n']\n",
      "['Fitness score: 1', \"Genotype: ['t', 'g', 'i', 's', 'i', 's', 's', 'o', 'm', 'u', 'c', 'h', 'f', 'u', 'n']\", 'Phenotype: tgisissomuchfun', '\\n']\n",
      "['Fitness score: 1', \"Genotype: ['t', 'g', 'i', 's', 'i', 's', 's', 'o', 'm', 'u', 'c', 'h', 'f', 'u', 'n']\", 'Phenotype: tgisissomuchfun', '\\n']\n",
      "['Fitness score: 0', \"Genotype: ['t', 'h', 'i', 's', 'i', 's', 's', 'o', 'm', 'u', 'c', 'h', 'f', 'u', 'n']\", 'Phenotype: thisissomuchfun', '\\n']\n"
     ]
    }
   ],
   "source": [
    "result3 = genetic_algorithm(\n",
    "    100, 10000, 0.8, 0.05, ALPHABET3, target3, evaluate_fitness3\n",
    ")\n"
   ]
  },
  {
   "cell_type": "code",
   "execution_count": 62,
   "metadata": {},
   "outputs": [
    {
     "name": "stdout",
     "output_type": "stream",
     "text": [
      "{'fitness': 0,\n",
      " 'genotype': ['t', 'h', 'i', 's', 'i', 's', 's', 'o', 'm', 'u', 'c', 'h', 'f',\n",
      "              'u', 'n'],\n",
      " 'phenotype': 'thisissomuchfun'}\n"
     ]
    }
   ],
   "source": [
    "pprint(result3, compact=True)"
   ]
  }
 ],
 "metadata": {
  "kernelspec": {
   "display_name": ".venv",
   "language": "python",
   "name": "python3"
  },
  "language_info": {
   "codemirror_mode": {
    "name": "ipython",
    "version": 3
   },
   "file_extension": ".py",
   "mimetype": "text/x-python",
   "name": "python",
   "nbconvert_exporter": "python",
   "pygments_lexer": "ipython3",
   "version": "3.12.0"
  },
  "toc": {
   "colors": {
    "hover_highlight": "#DAA520",
    "navigate_num": "#000000",
    "navigate_text": "#333333",
    "running_highlight": "#FF0000",
    "selected_highlight": "#FFD700",
    "sidebar_border": "#EEEEEE",
    "wrapper_background": "#FFFFFF"
   },
   "moveMenuLeft": true,
   "nav_menu": {
    "height": "120px",
    "width": "252px"
   },
   "navigate_menu": true,
   "number_sections": true,
   "sideBar": true,
   "threshold": 4,
   "toc_cell": false,
   "toc_section_display": "block",
   "toc_window_display": false,
   "widenNotebook": false
  }
 },
 "nbformat": 4,
 "nbformat_minor": 4
}
