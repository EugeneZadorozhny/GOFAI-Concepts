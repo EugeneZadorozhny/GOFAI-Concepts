{
 "cells": [
  {
   "cell_type": "markdown",
   "metadata": {},
   "source": [
    "## Solving Normal Form Games"
   ]
  },
  {
   "cell_type": "code",
   "execution_count": 1,
   "metadata": {},
   "outputs": [],
   "source": [
    "from typing import List, Tuple\n",
    "from copy import deepcopy"
   ]
  },
  {
   "cell_type": "markdown",
   "metadata": {},
   "source": [
    "The Prisoner's Dilemma game, shown here in Normal Form:\n",
    "\n",
    "Player 1 / Player 2  | Defect | Cooperate\n",
    "------------- | ------------- | -------------\n",
    "Defect  | -5, -5 | -1, -10\n",
    "Cooperate  | -10, -1 | -2, -2\n",
    "\n",
    "where the payoff to Player 1 is the left number and the payoff to Player 2 is the right number. We can represent each payoff cell as a Tuple: `(-5, -5)`, for example. We can represent each row as a List of Tuples: `[(-5, -5), (-1, -10)]` would be the first row and the entire table as a List of Lists:"
   ]
  },
  {
   "cell_type": "code",
   "execution_count": 2,
   "metadata": {},
   "outputs": [
    {
     "data": {
      "text/plain": [
       "[[(-5, -5), (-1, -10)], [(-10, -1), (-2, -2)]]"
      ]
     },
     "execution_count": 2,
     "metadata": {},
     "output_type": "execute_result"
    }
   ],
   "source": [
    "prisoners_dilemma = [[(-5, -5), (-1, -10)], [(-10, -1), (-2, -2)]]\n",
    "\n",
    "prisoners_dilemma"
   ]
  },
  {
   "cell_type": "markdown",
   "metadata": {},
   "source": [
    "in which case the strategies are represented by indices into the List of Lists. For example, `(Defect, Cooperate)` for the above game becomes `prisoners_dilemma[ 0][ 1]` and returns the payoff `(-1, -10)` because 0 is the first row of the table (\"Defect\" for Player 1) and 1 is the 2nd column of the row (\"Cooperate\" for Player 2).\n",
    "\n",
    "For this assignment, you are going write a function that uses Successive Elimination of Dominated Strategies (SEDS) to find the **pure strategy** Nash Equilibrium of a Normal Form Game. The function is called `solve_game`:\n",
    "\n",
    "```python\n",
    "def solve_game( game: List[List[Tuple]], weak=False) -> Tuple:\n",
    "    pass # returns strategy indices of Nash equilibrium or None.\n",
    "```\n",
    "\n",
    "and it takes two parameters: the game, in a format that we described earlier and an optional boolean flag that controls whether the algorithm considers only **strongly dominated strategies** (the default will be false) or whether it should consider **weakly dominated strategies** as well.\n",
    "\n",
    "It should work with game matrices of any size and it will return the **strategy indices** of the Nash Equilibrium. If there is no **pure strategy** equilibrium that can be found using SEDS, return `None`.\n",
    "\n",
    "\n",
    "<div style=\"background: mistyrose; color: firebrick; border: 2px solid darkred; padding: 5px; margin: 10px;\">\n",
    "Do not return the payoff. That's not useful. Return the strategy indices, any other output is incorrect.\n",
    "</div>\n",
    "\n",
    "As before, you must provide your implementation in the space below, one Markdown cell for documentation and one Code cell for implementation, one function and assertations per Codecell.\n",
    "\n",
    "\n",
    "---"
   ]
  },
  {
   "cell_type": "markdown",
   "metadata": {},
   "source": [
    "<a id=\"strong_compare\"></a>\n",
    "### strong_compare\n",
    "\n",
    "`strong_compare` compares two lists to see if all values of one list are greater than the values in the other list. Also removes values that have already been deemed as dominated from being compared. **Used by**: [player1](#player1), [player2](#player2)\n",
    "\n",
    "* **list1** List[int]: the list of integer values\n",
    "* **list2** List[int]: the list of integer values\n",
    "* **remove** List[int]: the list of data points to remove before comparing the lists\n",
    "\n",
    "**return**: int: integer representation of the result. 1 for list1 strongly dominating list2. 2 for list2 strongly dominating list1. 0 for no list dominates the other."
   ]
  },
  {
   "cell_type": "code",
   "execution_count": 3,
   "metadata": {},
   "outputs": [],
   "source": [
    "def strong_compare(list1, list2, remove) -> int:\n",
    "    _list1 = deepcopy(list1)\n",
    "    _list2 = deepcopy(list2)\n",
    "\n",
    "    for i in sorted(remove, reverse=True):\n",
    "        _list1.pop(i)\n",
    "        _list2.pop(i)\n",
    "    if all(map(lambda x, y: x > y, _list1, _list2)):\n",
    "        return 1\n",
    "    if all(map(lambda x, y: x < y, _list1, _list2)):\n",
    "        return 2\n",
    "    return 0"
   ]
  },
  {
   "cell_type": "code",
   "execution_count": 4,
   "metadata": {},
   "outputs": [],
   "source": [
    "l1 = [12, 20, 28]\n",
    "l2 = [15, 15, 25]\n",
    "assert strong_compare(l1, l2, []) == 0\n",
    "l1 = [12, 20, 28]\n",
    "l2 = [10, 10, 25]\n",
    "assert strong_compare(l1, l2, []) == 1\n",
    "l1 = [12, 20, 28]\n",
    "l2 = [15, 25, 30]\n",
    "assert strong_compare(l1, l2, []) == 2"
   ]
  },
  {
   "cell_type": "markdown",
   "metadata": {},
   "source": [
    "<a id=\"weak_compare\"></a>\n",
    "### weak_compare\n",
    "\n",
    "`weak_compare` compares two lists to see if any values of one list are greater than the values in the other list with the rest being at least equal. Also removes values that have already been deemed as dominated from being compared.  **Used by**: [player1](#player1), [player2](#player2)\n",
    "\n",
    "* **list1** List[int]: the list of integer values\n",
    "* **list2** List[int]: the list of integer values\n",
    "* **remove** List[int]: the list of data points to remove before comparing the lists\n",
    "\n",
    "**return**: int: integer representation of the result. 1 for list1 weakly dominating list2. 2 for list2 weakly dominating list1. 0 for no list dominates the other."
   ]
  },
  {
   "cell_type": "code",
   "execution_count": 5,
   "metadata": {},
   "outputs": [],
   "source": [
    "def weak_compare(list1, list2, remove) -> int:\n",
    "    _list1 = deepcopy(list1)\n",
    "    _list2 = deepcopy(list2)\n",
    "\n",
    "    for i in sorted(remove, reverse=True):\n",
    "        _list1.pop(i)\n",
    "        _list2.pop(i)\n",
    "    if all(map(lambda x, y: x >= y, _list1, _list2)):\n",
    "        if any(map(lambda x, y: x > y, _list1, _list2)):\n",
    "            return 1\n",
    "    if all(map(lambda x, y: x <= y, _list1, _list2)):\n",
    "        if any(map(lambda x, y: x < y, _list1, _list2)):\n",
    "            return 2\n",
    "    return 0"
   ]
  },
  {
   "cell_type": "code",
   "execution_count": 6,
   "metadata": {},
   "outputs": [],
   "source": [
    "l1 = (12, 15, 28)\n",
    "l2 = (15, 15, 25)\n",
    "assert weak_compare(l1, l2, []) == 0\n",
    "l1 = (15, 15, 28)\n",
    "l2 = (15, 15, 25)\n",
    "assert weak_compare(l1, l2, []) == 1\n",
    "l1 = (12, 15, 20)\n",
    "l2 = (15, 15, 25)\n",
    "assert weak_compare(l1, l2, []) == 2"
   ]
  },
  {
   "cell_type": "markdown",
   "metadata": {},
   "source": [
    "<a id=\"get_row\"></a>\n",
    "### get_row\n",
    "\n",
    "`get_row` gets a row of values that represent a player's payoff **Used by**: [player1](#player1)\n",
    "\n",
    "* **game** List[List[Tuple]]: the game world representing payoffs for each player and each strategy\n",
    "* **index** int: the row desired\n",
    "* **player** int: the player desired\n",
    "\n",
    "**return**: List[int]: the row extracted from the game world"
   ]
  },
  {
   "cell_type": "code",
   "execution_count": 7,
   "metadata": {},
   "outputs": [],
   "source": [
    "def get_row(game, index, player) -> List[int]:\n",
    "    row = []\n",
    "    for i, value in enumerate(game[0]):\n",
    "        row.append(game[index][i][player])\n",
    "    return row"
   ]
  },
  {
   "cell_type": "code",
   "execution_count": 8,
   "metadata": {},
   "outputs": [],
   "source": [
    "test_game = [\n",
    "    [(1, 2), (3, 4), (13, 14)],\n",
    "    [(5, 6), (7, 8), (15, 16)],\n",
    "    [(9, 10), (11, 12), (17, 18)],\n",
    "]\n",
    "assert get_row(test_game, 2, 0) == [9, 11, 17]\n",
    "assert get_row(test_game, 2, 1) == [10, 12, 18]\n",
    "assert get_row(test_game, 0, 0) == [1, 3, 13]\n"
   ]
  },
  {
   "cell_type": "markdown",
   "metadata": {},
   "source": [
    "<a id=\"get_col\"></a>\n",
    "### get_col\n",
    "\n",
    "`get_col` gets a column of values that represent a player's payoff **Used by**: [player2](#player2)\n",
    "\n",
    "* **game** List[List[Tuple]]: the game world representing payoffs for each player and each strategy\n",
    "* **index** int: the column desired\n",
    "* **player** int: the player desired\n",
    "\n",
    "**return**: List[int]: the row extracted from the game world"
   ]
  },
  {
   "cell_type": "code",
   "execution_count": 9,
   "metadata": {},
   "outputs": [],
   "source": [
    "def get_col(game, index, player) -> List[int]:\n",
    "    row = []\n",
    "    for i, value in enumerate(game):\n",
    "        row.append(game[i][index][player])\n",
    "    return row"
   ]
  },
  {
   "cell_type": "code",
   "execution_count": 10,
   "metadata": {},
   "outputs": [],
   "source": [
    "test_game = [\n",
    "    [(1, 2), (3, 4), (13, 14)],\n",
    "    [(5, 6), (7, 8), (15, 16)],\n",
    "    [(9, 10), (11, 12), (17, 18)],\n",
    "]\n",
    "assert get_col(test_game, 2, 0) == [13, 15, 17]\n",
    "assert get_col(test_game, 2, 1) == [14, 16, 18]\n",
    "assert get_col(test_game, 0, 0) == [1, 5, 9]\n"
   ]
  },
  {
   "cell_type": "markdown",
   "metadata": {},
   "source": [
    "<a id=\"get_equilibrium\"></a>\n",
    "### get_equilibrium\n",
    "\n",
    "`get_equilibrium` finds the indexes of the equilibrium point if one exists by comparing the dominated rows and columns to the game rows and columns. If only 1 row and column haven't been dominated then that is the equilibrium point. If the game hasn't found an equilibrium point, then **None** is returned. **Used by**: [solve_game](#solve_game)\n",
    "\n",
    "* **game** List[List[Tuple]]: the game world representing payoffs for each player and each strategy\n",
    "* **d_row** List[int]: the list of dominated rows already identified\n",
    "* **d_col** List[int]: the list of dominated columns already identified\n",
    "\n",
    "**return**: Tuple: the index of a equilibrium point"
   ]
  },
  {
   "cell_type": "code",
   "execution_count": 11,
   "metadata": {},
   "outputs": [],
   "source": [
    "def get_equilibrium(game, d_row, d_col) -> List:\n",
    "    equilibrium_index = []\n",
    "    if len(game) - len(d_row) != 1 or len(game[0]) - len(d_col) != 1:\n",
    "        return\n",
    "    for i, x in enumerate(game):\n",
    "        if i not in d_row:\n",
    "            equilibrium_index.append(i)\n",
    "\n",
    "    for i, x in enumerate(game[0]):\n",
    "        if i not in d_col:\n",
    "            equilibrium_index.append(i)\n",
    "\n",
    "    return equilibrium_index"
   ]
  },
  {
   "cell_type": "code",
   "execution_count": 12,
   "metadata": {},
   "outputs": [],
   "source": [
    "test_game = [\n",
    "    [(1, 2), (3, 4), (13, 14)],\n",
    "    [(5, 6), (7, 8), (15, 16)],\n",
    "    [(9, 10), (11, 12), (17, 18)],\n",
    "]\n",
    "test_rows = [0, 2]\n",
    "test_cols = [0, 1]\n",
    "assert get_equilibrium(test_game, test_rows, test_cols) == [1, 2]\n",
    "test_rows = [0, 1]\n",
    "test_cols = [0]\n",
    "assert get_equilibrium(test_game, test_rows, test_cols) is None\n",
    "test_rows = [0, 1, 2]\n",
    "test_cols = [0, 1]\n",
    "assert get_equilibrium(test_game, test_rows, test_cols) is None\n"
   ]
  },
  {
   "cell_type": "markdown",
   "metadata": {},
   "source": [
    "<a id=\"player1\"></a>\n",
    "### player1\n",
    "\n",
    "`player1` gets the rows to compare player 1 strategies and runs the strong or weak comparison.  **Uses**: [get_row](#get_row), [weak_compare](#weak_compare), [strong_compare](#strong_compare) **Used by**: [solve_game](#solve_game)\n",
    "\n",
    "* **game** List[List[Tuple]]: the game world representing payoffs for each player and each strategy\n",
    "* **col** int: the index of the desired column to compare against\n",
    "* **d_row** List[int]: the list of dominated rows already identified\n",
    "* **d_col** List[int]: the list of dominated columns already identified\n",
    "* **weak** Bool: determines whether to use strong or weak domination\n",
    "\n",
    "**return**: int: the index of a dominated row"
   ]
  },
  {
   "cell_type": "code",
   "execution_count": 13,
   "metadata": {},
   "outputs": [],
   "source": [
    "def player1(game, row, d_row, d_col, weak: bool = False) -> int:\n",
    "    player1_strategy = get_row(game, row, 0)\n",
    "    if row not in d_row:\n",
    "        for i in range(len(game)):\n",
    "            if i not in d_row:\n",
    "                player1_compare = get_row(game, i, 0)\n",
    "                if weak:\n",
    "                    dominate = weak_compare(player1_strategy, player1_compare, d_col)\n",
    "                else:\n",
    "                    dominate = strong_compare(player1_strategy, player1_compare, d_col)\n",
    "                if dominate == 2:\n",
    "                    return row\n",
    "                if dominate == 1:\n",
    "                    return i\n",
    "    pass"
   ]
  },
  {
   "cell_type": "code",
   "execution_count": 14,
   "metadata": {},
   "outputs": [],
   "source": [
    "test_game = [\n",
    "    [(1, 2), (3, 4), (13, 14)],\n",
    "    [(5, 6), (7, 8), (15, 16)],\n",
    "    [(9, 10), (11, 12), (17, 18)],\n",
    "]\n",
    "test_rows = [0]\n",
    "test_cols = [0, 1]\n",
    "assert player1(test_game, 1, test_rows, test_cols) == 1\n",
    "test_rows = []\n",
    "test_cols = [0, 1]\n",
    "assert player1(test_game, 0, test_rows, test_cols) == 0\n",
    "test_rows = [0, 1]\n",
    "test_cols = [0, 1]\n",
    "assert player1(test_game, 2, test_rows, test_cols) is None\n"
   ]
  },
  {
   "cell_type": "markdown",
   "metadata": {},
   "source": [
    "<a id=\"player2\"></a>\n",
    "### player2\n",
    "\n",
    "`player2` gets the columns to compare player 2 strategies and runs the strong or weak comparison.  **Uses**: [get_col](#get_col), [weak_compare](#weak_compare), [strong_compare](#strong_compare) **Used by**: [solve_game](#solve_game)\n",
    "\n",
    "* **game** List[List[Tuple]]: the game world representing payoffs for each player and each strategy\n",
    "* **col** int: the index of the desired column to compare against\n",
    "* **d_row** List[int]: the list of dominated rows already identified\n",
    "* **d_col** List[int]: the list of dominated columns already identified\n",
    "* **weak** Bool: determines whether to use strong or weak domination\n",
    "\n",
    "**return**: int: the index of a dominated column"
   ]
  },
  {
   "cell_type": "code",
   "execution_count": 15,
   "metadata": {},
   "outputs": [],
   "source": [
    "def player2(game, col, d_row, d_col, weak: bool = False) -> int:\n",
    "    player2_strategy = get_col(game, col, 1)\n",
    "    if col not in d_col:\n",
    "        for i in range(len(game[0])):\n",
    "            if i not in d_col:\n",
    "                player2_compare = get_col(game, i, 1)\n",
    "                if weak:\n",
    "                    dominate = weak_compare(player2_strategy, player2_compare, d_row)\n",
    "                else:\n",
    "                    dominate = strong_compare(player2_strategy, player2_compare, d_row)\n",
    "                if dominate == 2:\n",
    "                    return col\n",
    "                if dominate == 1:\n",
    "                    return i\n",
    "    pass"
   ]
  },
  {
   "cell_type": "code",
   "execution_count": 16,
   "metadata": {},
   "outputs": [],
   "source": [
    "test_game = [\n",
    "    [(1, 2), (3, 4), (13, 14)],\n",
    "    [(5, 6), (7, 8), (15, 16)],\n",
    "    [(9, 10), (11, 12), (17, 18)],\n",
    "]\n",
    "test_rows = [0]\n",
    "test_cols = [0]\n",
    "assert player2(test_game, 1, test_rows, test_cols) == 1\n",
    "test_rows = []\n",
    "test_cols = []\n",
    "assert player2(test_game, 0, test_rows, test_cols) == 0\n",
    "test_rows = [0, 1]\n",
    "test_cols = [0, 1]\n",
    "assert player2(test_game, 2, test_rows, test_cols) is None\n"
   ]
  },
  {
   "cell_type": "markdown",
   "metadata": {},
   "source": [
    "<a id=\"solve_game\"></a>\n",
    "### solve_game\n",
    "\n",
    "`solve_game` solves a game for equilibrium using either strong or weak dominating strategies **Uses**: [player1](#player1), [player2](#player2), [get_equilibrium](#get_equilibrium)\n",
    "\n",
    "* **game** List[List[Tuple]]: the game world representing payoffs for each player and each strategy\n",
    "* **weak** Bool: determines whether to use strong or weak domination\n",
    "\n",
    "**return**: Tuple: the index of the equilibrium point"
   ]
  },
  {
   "cell_type": "code",
   "execution_count": 17,
   "metadata": {},
   "outputs": [],
   "source": [
    "def solve_game(game: List[List[Tuple]], weak: bool = False) -> Tuple:\n",
    "    dominated_row = []\n",
    "    dominated_col = []\n",
    "    row = 0\n",
    "    col = 0\n",
    "    while len(game) > row and len(game[0]) > col:\n",
    "        player1_result = player1(game, row, dominated_row, dominated_col, weak)\n",
    "        if player1_result is not None and player1_result not in dominated_row:\n",
    "            dominated_row.append(player1_result)\n",
    "\n",
    "        player2_result = player2(game, col, dominated_row, dominated_col, weak)\n",
    "        if player2_result is not None and player2_result not in dominated_col:\n",
    "            dominated_col.append(player2_result)\n",
    "\n",
    "        row += 1\n",
    "        col += 1\n",
    "\n",
    "    e_index = get_equilibrium(game, dominated_row, dominated_col)\n",
    "    return e_index"
   ]
  },
  {
   "cell_type": "code",
   "execution_count": 18,
   "metadata": {},
   "outputs": [
    {
     "data": {
      "text/plain": [
       "[0, 0]"
      ]
     },
     "execution_count": 18,
     "metadata": {},
     "output_type": "execute_result"
    }
   ],
   "source": [
    "solve_game(prisoners_dilemma)"
   ]
  },
  {
   "cell_type": "markdown",
   "metadata": {},
   "source": [
    "## Additional Directions\n",
    "\n",
    "Create three games as described and according to the following:\n",
    "\n",
    "1. Your games must be created and solved \"by hand\".\n",
    "2. The strategy pairs must **not** be on the main diagonal (0, 0), (1, 1), or (2, 2). And the solution cannot be the same for both Game 1 and Game 2.\n",
    "3. Make sure you fill out the Markdown (\"?\") with your game as well as the solution (\"?\").\n",
    "4. Remember, **do not return the payoff**, return the strategy indices.\n",
    "\n",
    "For games that can be solved with *weak* SEDS, there may be more than one solution. You only need to return the first solution found. However, if you would like to return all solutions, you can implement `solve_game` as state space search."
   ]
  },
  {
   "cell_type": "markdown",
   "metadata": {},
   "source": [
    "### Test Game 1. Create a 3x3 two player game\n",
    "\n",
    "**that can only be solved using the Successive Elimintation of Strongly Dominated Strategies**\n",
    "\n",
    "| Player 1 / Player 2  | 0 | 1 | 2 |\n",
    "|----|----|----|----|\n",
    "|0  | 14, 12 | 10, 10 | 14, 15 |\n",
    "|1  | 20, 20 | 12, 14 | 28, 15 |\n",
    "|2  | 15, 28 | 15, 14 | 25, 25 |\n",
    "\n",
    "**Solution:**(1,0)"
   ]
  },
  {
   "cell_type": "code",
   "execution_count": 19,
   "metadata": {},
   "outputs": [],
   "source": [
    "test_game_1 = [\n",
    "    [(14, 12), (10, 10), (14, 15)],\n",
    "    [(20, 20), (12, 14), (28, 15)],\n",
    "    [(15, 28), (15, 14), (25, 25)],\n",
    "]\n",
    "\n",
    "solution = solve_game(test_game_1)\n"
   ]
  },
  {
   "cell_type": "code",
   "execution_count": 20,
   "metadata": {},
   "outputs": [],
   "source": [
    "assert solution == [1, 0]"
   ]
  },
  {
   "cell_type": "markdown",
   "metadata": {},
   "source": [
    "### Test Game 2. Create a 3x3 two player game\n",
    "\n",
    "**that can only be solved using the Successive Elimintation of Weakly Dominated Strategies**\n",
    "\n",
    "| Player 1 / Player 2  | 0 | 1 | 2 |\n",
    "|----|----|----|----|\n",
    "|0  | 4, 2 | 0, 5 | 4, 5 |\n",
    "|1  | 5, 0 | 2, 5 | 8, 5 |\n",
    "|2  | 5, 8 | 5, 4 | 5, 5 |\n",
    "\n",
    "**Solution:** (1,2)"
   ]
  },
  {
   "cell_type": "code",
   "execution_count": 21,
   "metadata": {},
   "outputs": [],
   "source": [
    "test_game_2 = [\n",
    "    [(4, 2), (0, 5), (4, 5)],\n",
    "    [(5, 0), (2, 5), (8, 5)],\n",
    "    [(5, 8), (5, 4), (5, 5)],\n",
    "]\n",
    "\n",
    "strong_solution = solve_game(test_game_2)\n",
    "weak_solution = solve_game(test_game_2, weak=True)"
   ]
  },
  {
   "cell_type": "code",
   "execution_count": 22,
   "metadata": {},
   "outputs": [],
   "source": [
    "assert strong_solution is None\n",
    "assert weak_solution == [1, 2]"
   ]
  },
  {
   "cell_type": "markdown",
   "metadata": {},
   "source": [
    "### Test Game 3. Create a 3x3 two player game\n",
    "\n",
    "**that cannot be solved using the Successive Elimintation of Dominated Strategies at all**\n",
    "\n",
    "| Player 1 / Player 2  | 0 | 1 | 2 |\n",
    "|----|----|----|----|\n",
    "|0  | 4, 2 | 0, 5 | 4, 5 |\n",
    "|1  | 5, 5 | 2, 5 | 8, 5 |\n",
    "|2  | 5, 8 | 5, 4 | 5, 5 |\n",
    "\n",
    "**Solution:** None"
   ]
  },
  {
   "cell_type": "code",
   "execution_count": 23,
   "metadata": {},
   "outputs": [],
   "source": [
    "test_game_3 = [\n",
    "    [(4, 2), (0, 5), (4, 5)],\n",
    "    [(5, 5), (2, 5), (8, 5)],\n",
    "    [(5, 8), (5, 4), (5, 5)],\n",
    "]\n",
    "strong_solution = solve_game(test_game_3)\n",
    "weak_solution = solve_game(test_game_3, weak=True)"
   ]
  },
  {
   "cell_type": "code",
   "execution_count": 24,
   "metadata": {},
   "outputs": [],
   "source": [
    "assert strong_solution is None\n",
    "assert weak_solution is None"
   ]
  }
 ],
 "metadata": {
  "kernelspec": {
   "display_name": ".venv",
   "language": "python",
   "name": "python3"
  },
  "language_info": {
   "codemirror_mode": {
    "name": "ipython",
    "version": 3
   },
   "file_extension": ".py",
   "mimetype": "text/x-python",
   "name": "python",
   "nbconvert_exporter": "python",
   "pygments_lexer": "ipython3",
   "version": "3.12.0"
  },
  "toc": {
   "colors": {
    "hover_highlight": "#DAA520",
    "navigate_num": "#000000",
    "navigate_text": "#333333",
    "running_highlight": "#FF0000",
    "selected_highlight": "#FFD700",
    "sidebar_border": "#EEEEEE",
    "wrapper_background": "#FFFFFF"
   },
   "moveMenuLeft": true,
   "nav_menu": {
    "height": "135px",
    "width": "252px"
   },
   "navigate_menu": true,
   "number_sections": true,
   "sideBar": true,
   "threshold": 4,
   "toc_cell": false,
   "toc_section_display": "block",
   "toc_window_display": false,
   "widenNotebook": false
  }
 },
 "nbformat": 4,
 "nbformat_minor": 4
}
