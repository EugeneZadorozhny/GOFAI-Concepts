{
 "cells": [
  {
   "cell_type": "markdown",
   "metadata": {},
   "source": [
    "## k Nearest Neighbors and Model Evaluation\n",
    "\n",
    "In this programming assignment you will use k Nearest Neighbors (kNN) to build a \"model\" that will estimate the compressive strength of various types of concrete. This assignment has several objectives:\n",
    "\n",
    "1. Implement the kNN algorithm with k=9. Remember...the data + distance function is the model in kNN. In addition to asserts that unit test your code, you should \"test drive\" the model, showing output that a non-technical person could interpret.\n",
    "\n",
    "2. You are going to compare the kNN model above against the baseline model described in the course notes (the mean of the training set's target variable). You should use 10 fold cross validation and Mean Squared Error (MSE):\n",
    "\n",
    "$$MSE = \\frac{1}{n}\\sum^n_i (y_i - \\hat{y}_i)^2$$\n",
    "\n",
    "as the evaluation metric (\"error\"). Refer to the course notes for the format your output should take. Don't forget a discussion of the results.\n",
    "\n",
    "3. use validation curves to tune a *hyperparameter* of the model. \n",
    "In this case, the hyperparameter is *k*, the number of neighbors. Don't forget a discussion of the results.\n",
    "\n",
    "4. evaluate the *generalization error* of the new model.\n",
    "Because you may have just created a new, better model, you need a sense of its generalization error, calculate that. Again, what would you like to see as output here? Refer to the course notes. Don't forget a discussion of the results. Did the new model do better than either model in Q2?\n",
    "\n",
    "5. pick one of the \"Choose Your Own Adventure\" options.\n",
    "\n",
    "Refer to the \"course notes\" for this module for most of this assignment.\n",
    "Anytime you just need test/train split, use fold index 0 for the test set and the remainder as the training set.\n",
    "Discuss any results."
   ]
  },
  {
   "cell_type": "markdown",
   "metadata": {},
   "source": [
    "## Load the Data\n",
    "\n",
    "The function `parse_data` loads the data from the specified file and returns a List of Lists. The outer List is the data set and each element (List) is a specific observation. Each value of an observation is for a particular measurement. This is what we mean by \"tidy\" data.\n",
    "\n",
    "The function also returns the *shuffled* data because the data might have been collected in a particular order that *might* bias training."
   ]
  },
  {
   "cell_type": "code",
   "execution_count": 1,
   "metadata": {},
   "outputs": [],
   "source": [
    "import random\n",
    "import numpy as np\n",
    "import matplotlib.pyplot as plt\n",
    "from typing import List, Tuple"
   ]
  },
  {
   "cell_type": "code",
   "execution_count": 2,
   "metadata": {},
   "outputs": [],
   "source": [
    "def parse_data(file_name: str) -> List[List]:\n",
    "    data = []\n",
    "    file = open(file_name, \"r\")\n",
    "    for line in file:\n",
    "        datum = [float(value) for value in line.rstrip().split(\",\")]\n",
    "        data.append(datum)\n",
    "    random.shuffle(data)\n",
    "    return data"
   ]
  },
  {
   "cell_type": "code",
   "execution_count": 3,
   "metadata": {},
   "outputs": [],
   "source": [
    "data = parse_data(\"data/concrete_compressive_strength.csv\")"
   ]
  },
  {
   "cell_type": "code",
   "execution_count": 4,
   "metadata": {
    "scrolled": true
   },
   "outputs": [
    {
     "data": {
      "text/plain": [
       "[393.0, 0.0, 0.0, 192.0, 0.0, 940.0, 758.0, 90.0, 48.79]"
      ]
     },
     "execution_count": 4,
     "metadata": {},
     "output_type": "execute_result"
    }
   ],
   "source": [
    "data[0]"
   ]
  },
  {
   "cell_type": "code",
   "execution_count": 5,
   "metadata": {},
   "outputs": [
    {
     "data": {
      "text/plain": [
       "1030"
      ]
     },
     "execution_count": 5,
     "metadata": {},
     "output_type": "execute_result"
    }
   ],
   "source": [
    "len(data)"
   ]
  },
  {
   "cell_type": "markdown",
   "metadata": {},
   "source": [
    "There are 1,030 observations and each observation has 8 measurements. The data dictionary for this data set tells us the definitions of the individual variables (columns/indices):\n",
    "\n",
    "| Index | Variable | Definition |\n",
    "|-------|----------|------------|\n",
    "| 0     | cement   | kg in a cubic meter mixture |\n",
    "| 1     | slag     | kg in a cubic meter mixture |\n",
    "| 2     | ash      | kg in a cubic meter mixture |\n",
    "| 3     | water    | kg in a cubic meter mixture |\n",
    "| 4     | superplasticizer | kg in a cubic meter mixture |\n",
    "| 5     | coarse aggregate | kg in a cubic meter mixture |\n",
    "| 6     | fine aggregate | kg in a cubic meter mixture |\n",
    "| 7     | age | days |\n",
    "| 8     | concrete compressive strength | MPa |\n",
    "\n",
    "The target (\"y\") variable is a Index 8, concrete compressive strength in (Mega?) [Pascals](https://en.wikipedia.org/wiki/Pascal_(unit))."
   ]
  },
  {
   "cell_type": "markdown",
   "metadata": {},
   "source": [
    "## Train/Test Splits - n folds\n",
    "\n",
    "With n fold cross validation, we divide our data set into n subgroups called \"folds\" and then use those folds for training and testing. You pick n based on the size of your data set. If you have a small data set--100 observations--and you used n=10, each fold would only have 10 observations. That's probably too small. You want at least 30. At the other extreme, we generally don't use n > 10.\n",
    "\n",
    "With 1,030 observations, n = 10 is fine so we will have 10 folds.\n",
    "`create_folds` will take a list (xs) and split it into `n` equal folds with each fold containing one-tenth of the observations."
   ]
  },
  {
   "cell_type": "code",
   "execution_count": 6,
   "metadata": {},
   "outputs": [],
   "source": [
    "def create_folds(xs: List, n: int) -> List[List[List]]:\n",
    "    k, m = divmod(len(xs), n)\n",
    "    # be careful of generators...\n",
    "    return list(xs[i * k + min(i, m) : (i + 1) * k + min(i + 1, m)] for i in range(n))"
   ]
  },
  {
   "cell_type": "code",
   "execution_count": 7,
   "metadata": {},
   "outputs": [],
   "source": [
    "folds = create_folds(data, 10)"
   ]
  },
  {
   "cell_type": "code",
   "execution_count": 8,
   "metadata": {},
   "outputs": [
    {
     "data": {
      "text/plain": [
       "10"
      ]
     },
     "execution_count": 8,
     "metadata": {},
     "output_type": "execute_result"
    }
   ],
   "source": [
    "len(folds)"
   ]
  },
  {
   "cell_type": "markdown",
   "metadata": {},
   "source": [
    "We always use one of the n folds as a test set (and, sometimes, one of the folds as a *pruning* set but not for kNN), and the remaining folds as a training set.\n",
    "We need a function that'll take our n folds and return the train and test sets:"
   ]
  },
  {
   "cell_type": "code",
   "execution_count": 9,
   "metadata": {},
   "outputs": [],
   "source": [
    "def create_train_test(\n",
    "    folds: List[List[List]], index: int\n",
    ") -> Tuple[List[List], List[List]]:\n",
    "    training = []\n",
    "    test = []\n",
    "    for i, fold in enumerate(folds):\n",
    "        if i == index:\n",
    "            test = fold\n",
    "        else:\n",
    "            training = training + fold\n",
    "    return training, test\n"
   ]
  },
  {
   "cell_type": "markdown",
   "metadata": {},
   "source": [
    "We can test the function to give us a train and test datasets where the test set is the fold at index 0:"
   ]
  },
  {
   "cell_type": "code",
   "execution_count": 10,
   "metadata": {},
   "outputs": [],
   "source": [
    "train, test = create_train_test(folds, 0)"
   ]
  },
  {
   "cell_type": "code",
   "execution_count": 11,
   "metadata": {},
   "outputs": [
    {
     "data": {
      "text/plain": [
       "927"
      ]
     },
     "execution_count": 11,
     "metadata": {},
     "output_type": "execute_result"
    }
   ],
   "source": [
    "len(train)"
   ]
  },
  {
   "cell_type": "code",
   "execution_count": 12,
   "metadata": {},
   "outputs": [
    {
     "data": {
      "text/plain": [
       "103"
      ]
     },
     "execution_count": 12,
     "metadata": {},
     "output_type": "execute_result"
    }
   ],
   "source": [
    "len(test)"
   ]
  },
  {
   "cell_type": "markdown",
   "metadata": {},
   "source": [
    "## Q1: kNN"
   ]
  },
  {
   "cell_type": "markdown",
   "metadata": {},
   "source": [
    "<a id=\"distance\"></a>\n",
    "### distance\n",
    "\n",
    "`distance` prints the Euclidian distance between two data points. **Used by**: [knn](#knn)\n",
    "\n",
    "* **example** List[float]: the list of feature values for a single datapoint\n",
    "* **query** List[float]: the list of feature values for a single datapoint\n",
    "\n",
    "**return**: float: the Euclidian distance between the two datapoints"
   ]
  },
  {
   "cell_type": "code",
   "execution_count": 13,
   "metadata": {},
   "outputs": [],
   "source": [
    "def distance(example: List[float], query: List[float]) -> float:\n",
    "    distance = 0\n",
    "    for i, dimension in enumerate(example):\n",
    "        distance += (dimension - query[i]) ** 2\n",
    "    distance = np.sqrt(distance)\n",
    "    return distance"
   ]
  },
  {
   "cell_type": "code",
   "execution_count": 14,
   "metadata": {},
   "outputs": [],
   "source": [
    "d = distance([0, 0, 0], [1, 2, 2])\n",
    "assert d == 3.0\n",
    "d = distance([1, 2, 2], [2, 4, 4])\n",
    "assert d == 3.0\n",
    "d = distance([1, 2, 3], [2, 4, 5])\n",
    "assert d == 3.0"
   ]
  },
  {
   "cell_type": "markdown",
   "metadata": {},
   "source": [
    "<a id=\"y_average\"></a>\n",
    "### y_average\n",
    "\n",
    "`y_average` averages the target variable. **Used by**: [knn](#knn)\n",
    "\n",
    "* **data** List[Tuple[int,List]]: the list of knn and their feature values\n",
    "* **target** int: the location of the target variable\n",
    "\n",
    "**return**: float: the Euclidian distance between the two datapoints"
   ]
  },
  {
   "cell_type": "code",
   "execution_count": 15,
   "metadata": {},
   "outputs": [],
   "source": [
    "def y_average(data: List[Tuple[int, List]], target: int):\n",
    "    average = 0\n",
    "    for i, value in enumerate(data):\n",
    "        average += data[i][1][target]\n",
    "    average = average / len(data)\n",
    "    return average"
   ]
  },
  {
   "cell_type": "code",
   "execution_count": 16,
   "metadata": {},
   "outputs": [],
   "source": [
    "a = y_average([(1.0, [2, 4, 6, 10]), (3.0, [1, 2, 3, 4])], 3)\n",
    "assert a == 7\n",
    "a = y_average([(1.0, [2, 4, 6, 10]), (3.0, [1, 2, 3, 4])], 2)\n",
    "assert a == 4.5\n",
    "a = y_average([(1.0, [2, 4, 6, 10]), (3.0, [1, 2, 3, 4])], 0)\n",
    "assert a == 1.5"
   ]
  },
  {
   "cell_type": "markdown",
   "metadata": {},
   "source": [
    "<a id=\"knn\"></a>\n",
    "### knn\n",
    "\n",
    "`knn` determines which datapoints in a dataset are closest to the query point using Euclidian distance between features. Based on the closest points, and estimate of the target value is provided by averaging the target values of the closest points. **Uses**: [distance](#distance), [y_average](#y_average) **Used by**: [knn_performance](#knn_performance), [validation_curves](#validation_curves)\n",
    "\n",
    "* **data** Tuple[List[List[float]]: the dataset to be compared to find the closest datapoints\n",
    "* **query** List[float]: the list of feature values for a single datapoint\n",
    "* **processing** Callable: the processing function to determine what value to return from the result of the kNN\n",
    "\n",
    "**return**: Any: the result of the knn based on the processing function (default: float: average target value)"
   ]
  },
  {
   "cell_type": "code",
   "execution_count": 17,
   "metadata": {},
   "outputs": [],
   "source": [
    "def knn(\n",
    "    data: Tuple[List[List]], query: List[float], k: int, processing=y_average\n",
    ") -> any:\n",
    "    distances = []\n",
    "    for example in data:\n",
    "        distances.append((distance(example[: len(example) - 1], query), example))\n",
    "    distances.sort()\n",
    "    nearest = distances[:k]\n",
    "    return processing(nearest, len(nearest[0][1]) - 1)\n"
   ]
  },
  {
   "cell_type": "code",
   "execution_count": 18,
   "metadata": {},
   "outputs": [],
   "source": [
    "k = knn([[0, 0, 0], [1, 2, 2], [2, 4, 4]], [1, 4, 5], 1)\n",
    "assert k == 4.0\n",
    "k = knn([[1, 2, 3], [4, 5, 6], [7, 8, 9]], [11, 11, 12], 1)\n",
    "assert k == 9.0\n",
    "k = knn([[1, 2, 3, 4], [2, 4, 6, 10], [100, 200, 300, 400]], [2, 4, 5, 6], 2)\n",
    "assert k == 7.0"
   ]
  },
  {
   "cell_type": "markdown",
   "metadata": {},
   "source": [
    "**kNN Test**\n",
    "\n",
    "The output of `knn` is the distance between a query point and a point in the dataset, followed by the feature values of the dataset datapoint the distance belongs to. The test below shows the 9 closest points in the train dataset to test point 0 sorted from closest to furthest away."
   ]
  },
  {
   "cell_type": "code",
   "execution_count": 19,
   "metadata": {},
   "outputs": [
    {
     "name": "stdout",
     "output_type": "stream",
     "text": [
      "From 9 of the nearest neighbors to point [393.0, 0.0, 0.0, 192.0, 0.0, 940.0, 758.0, 90.0, 48.79]: the resulting estimated target value is: 42.29 and the actaul target value is: 48.79\n"
     ]
    }
   ],
   "source": [
    "n = knn(train, test[5], 9)\n",
    "print(\n",
    "    f\"From 9 of the nearest neighbors to \"\n",
    "    f\"point {test[0]}: the resulting estimated target value is: \"\n",
    "    f\"{n:0.2f} and the actaul target value is: {test[0][len(test[0])-1]}\"\n",
    ")"
   ]
  },
  {
   "cell_type": "markdown",
   "metadata": {},
   "source": [
    "## Q2: Evaluation vs. The Mean"
   ]
  },
  {
   "cell_type": "markdown",
   "metadata": {},
   "source": [
    "<a id=\"mean_column\"></a>\n",
    "### mean_column\n",
    "\n",
    "`mean_column` finds the mean value of a column in a list. **Used by**: [null_performance](#null_performance)\n",
    "\n",
    "* **data** List[List]: the list of values to take the mean of\n",
    "* **column** int: the column to take the mean of\n",
    "\n",
    "**return**: float: the mean value from the list"
   ]
  },
  {
   "cell_type": "code",
   "execution_count": 20,
   "metadata": {},
   "outputs": [],
   "source": [
    "def mean_column(data: List[List], column) -> float:\n",
    "    mean = 0\n",
    "    for i, value in enumerate(data):\n",
    "        mean += data[i][column]\n",
    "    mean = mean / len(data)\n",
    "    return mean"
   ]
  },
  {
   "cell_type": "code",
   "execution_count": 21,
   "metadata": {},
   "outputs": [],
   "source": [
    "m = mean_column([[1, 2], [2, 3], [3, 4]], 0)\n",
    "assert m == 2.0\n",
    "m = mean_column([[1, 2], [2, 3], [3, 4]], 1)\n",
    "assert m == 3.0\n",
    "m = mean_column([[1, 2, 0], [2, 3, 0], [3, 4, 0]], 2)\n",
    "assert m == 0.0"
   ]
  },
  {
   "cell_type": "markdown",
   "metadata": {},
   "source": [
    "<a id=\"mse\"></a>\n",
    "### mse\n",
    "\n",
    "`mse` finds the mean squared error. **Used by**: [null_performance](#null_performance), [knn_performance](#knn_performance), [validation_curves](#validation_curves)\n",
    "\n",
    "* **actual** List: the list of actaul target values\n",
    "* **predicted** List: the list of predicted target values\n",
    "\n",
    "**return**: float: the mean squared error"
   ]
  },
  {
   "cell_type": "code",
   "execution_count": 22,
   "metadata": {},
   "outputs": [],
   "source": [
    "def mse(actual: List, predicted: List) -> float:\n",
    "    mse = 0\n",
    "    for i, value in enumerate(actual):\n",
    "        mse += (actual[i] - predicted[i]) ** 2\n",
    "    mse = mse / len(actual)\n",
    "    return mse"
   ]
  },
  {
   "cell_type": "code",
   "execution_count": 23,
   "metadata": {},
   "outputs": [],
   "source": [
    "e = mse([3, 4], [5, 7])\n",
    "assert e == 6.5\n",
    "e = mse([1, 1], [2, 2])\n",
    "assert e == 1.0\n",
    "e = mse([9], [11])\n",
    "assert e == 4.0"
   ]
  },
  {
   "cell_type": "markdown",
   "metadata": {},
   "source": [
    "<a id=\"extract_column\"></a>\n",
    "### extract_column\n",
    "\n",
    "`extract_column` extracts a column into a list from a list of lists. **Used by**: [null_performance](#null_performance), [knn_performance](#knn_performance), [validation_curves](#validation_curves)\n",
    "\n",
    "* **data** List[List]: the list of lists\n",
    "* **column** int: determines which column to extract\n",
    "\n",
    "**return**: List: the extracted column as a list"
   ]
  },
  {
   "cell_type": "code",
   "execution_count": 24,
   "metadata": {},
   "outputs": [],
   "source": [
    "def extract_column(data: List[List], column) -> List:\n",
    "    extract = []\n",
    "    for i, value in enumerate(data):\n",
    "        extract.append(data[i][column])\n",
    "    return extract"
   ]
  },
  {
   "cell_type": "code",
   "execution_count": 25,
   "metadata": {},
   "outputs": [],
   "source": [
    "d = extract_column([[1, 4, 7], [2, 5, 8], [3, 6, 9]], 0)\n",
    "assert d == [1, 2, 3]\n",
    "d = extract_column([[1, 4, 7], [2, 5, 8], [3, 6, 9]], 1)\n",
    "assert d == [4, 5, 6]\n",
    "d = extract_column([[1, 4, 7], [2, 5, 8], [3, 6, 9]], 2)\n",
    "assert d == [7, 8, 9]"
   ]
  },
  {
   "cell_type": "markdown",
   "metadata": {},
   "source": [
    "<a id=\"null_performance\"></a>\n",
    "### null_performance\n",
    "\n",
    "`null_performance` runs the baseline performance of comparing the target values to the mean target value. **Uses**: [mean_column](#mean_column), [extract_column](#extract_column), [mse](#mse) \n",
    "\n",
    "* **folds** List[List]: the list of k-folds created"
   ]
  },
  {
   "cell_type": "code",
   "execution_count": 26,
   "metadata": {},
   "outputs": [],
   "source": [
    "def null_performance(folds: List[List]):\n",
    "    test_mse = []\n",
    "    for i, fold in enumerate(folds):\n",
    "        train, test = create_train_test(folds, i)\n",
    "\n",
    "        target_mean = mean_column(train, len(train[0]) - 1)\n",
    "        mean_list = [target_mean] * len(test)\n",
    "\n",
    "        test_actual = extract_column(test, len(test[0]) - 1)\n",
    "        test_mse.append(mse(test_actual, mean_list))\n",
    "\n",
    "        print(f\"Fold {i+1} mean squared error: {test_mse[i]:0.2f}\")\n",
    "\n",
    "    average = sum(test_mse) / len(test_mse)\n",
    "    print(f\"Average mean squared error: {average:0.2f}\")"
   ]
  },
  {
   "cell_type": "code",
   "execution_count": 27,
   "metadata": {},
   "outputs": [
    {
     "name": "stdout",
     "output_type": "stream",
     "text": [
      "Fold 1 mean squared error: 264.00\n",
      "Fold 2 mean squared error: 310.85\n",
      "Fold 3 mean squared error: 238.47\n",
      "Fold 4 mean squared error: 327.70\n",
      "Fold 5 mean squared error: 261.61\n",
      "Fold 6 mean squared error: 297.39\n",
      "Fold 7 mean squared error: 248.59\n",
      "Fold 8 mean squared error: 267.34\n",
      "Fold 9 mean squared error: 333.17\n",
      "Fold 10 mean squared error: 246.04\n",
      "Average mean squared error: 279.52\n"
     ]
    }
   ],
   "source": [
    "null_performance(folds)"
   ]
  },
  {
   "cell_type": "markdown",
   "metadata": {},
   "source": [
    "<a id=\"knn_performance\"></a>\n",
    "### knn_performance\n",
    "\n",
    "`knn_performance` determines the performance of comparing the target values to the knn estimate of the target value by calculating the mean squared error over folds and k nearest neighbors. **Uses**: [extract_column](#extract_column), [mse](#mse), [knn](#knn) **Used by**: [learning_curves](#learning_curves)\n",
    "\n",
    "* **folds** List[List]: the list of k-folds created\n",
    "* **k** int: determines how many nearest neighbors to use\n",
    "* **include_train** boolean: determines if training data should be knn estimated as well as test data\n",
    "\n",
    "**return** List[float]: the average mse for test and train data"
   ]
  },
  {
   "cell_type": "code",
   "execution_count": 28,
   "metadata": {},
   "outputs": [],
   "source": [
    "def knn_performance(folds, k, include_train) -> List[float]:\n",
    "    test_mse = []\n",
    "    train_mse = []\n",
    "    for i_folds, fold in enumerate(folds):\n",
    "        train, test = create_train_test(folds, i_folds)\n",
    "        knn_estimate_train = []\n",
    "        knn_estimate_test = []\n",
    "        for i_test, test_point in enumerate(test):\n",
    "            knn_estimate_test.append(knn(train, test_point, k))\n",
    "        if include_train:\n",
    "            for i_train, train_point in enumerate(train):\n",
    "                knn_estimate_train.append(knn(train, train_point, k))\n",
    "            train_actual = extract_column(train, len(train[0]) - 1)\n",
    "            train_mse.append(mse(train_actual, knn_estimate_train))\n",
    "        else:\n",
    "            train_mse = [0]\n",
    "        test_actual = extract_column(test, len(test[0]) - 1)\n",
    "        test_mse.append(mse(test_actual, knn_estimate_test))\n",
    "        print(f\"Fold {i_folds+1} mean squared error: {test_mse[i_folds]:0.2f}\")\n",
    "    average_train = sum(train_mse) / len(train_mse)\n",
    "    average_test = sum(test_mse) / len(test_mse)\n",
    "    print(f\"Average mean squared error: {average_test:0.2f}\")\n",
    "    return average_train, average_test"
   ]
  },
  {
   "cell_type": "code",
   "execution_count": 29,
   "metadata": {},
   "outputs": [
    {
     "name": "stdout",
     "output_type": "stream",
     "text": [
      "Fold 1 mean squared error: 90.38\n",
      "Fold 2 mean squared error: 105.53\n",
      "Fold 3 mean squared error: 61.95\n"
     ]
    },
    {
     "name": "stdout",
     "output_type": "stream",
     "text": [
      "Fold 4 mean squared error: 65.01\n",
      "Fold 5 mean squared error: 92.13\n",
      "Fold 6 mean squared error: 111.63\n",
      "Fold 7 mean squared error: 82.82\n",
      "Fold 8 mean squared error: 75.84\n",
      "Fold 9 mean squared error: 124.72\n",
      "Fold 10 mean squared error: 73.12\n",
      "Average mean squared error: 88.31\n"
     ]
    }
   ],
   "source": [
    "knn_nine = knn_performance(folds, 9, False)"
   ]
  },
  {
   "cell_type": "markdown",
   "metadata": {},
   "source": [
    "**Performance Discussion**\n",
    "\n",
    "The kNN model outperforms the null model by a large margin. The average MSE over 10 folds for the null model is more than twice of the kNN model. This means that the kNN model does a better job of estimating values for concrete compressive strength based on the features provided than just going with the average strength."
   ]
  },
  {
   "cell_type": "markdown",
   "metadata": {},
   "source": [
    "## Q3: Hyperparameter Tuning"
   ]
  },
  {
   "cell_type": "markdown",
   "metadata": {},
   "source": [
    "<a id=\"validation_curves\"></a>\n",
    "### validation_curves\n",
    "\n",
    "`validation_curves` generates the mse for train and test data based on cycling through various k values. **Uses**: [extract_column](#extract_column), [mse](#mse), [knn](#knn)\n",
    "\n",
    "* **folds** List[List]: the list of k-folds created\n",
    "* **max_k** int: determines how maximum nearest neighbors to use\n",
    "* **min_k** int: determines how minimum nearest neighbors to use\n",
    "\n",
    "**return** List[List]: the mse for test and train data over k values"
   ]
  },
  {
   "cell_type": "code",
   "execution_count": 30,
   "metadata": {},
   "outputs": [],
   "source": [
    "def validation_curves(fold, max_k, min_k):\n",
    "    test_mse = []\n",
    "    train_mse = []\n",
    "\n",
    "    train, test = create_train_test(folds, 0)\n",
    "    while max_k > min_k:\n",
    "        knn_estimate_train = []\n",
    "        knn_estimate_test = []\n",
    "        for i_test, test_point in enumerate(test):\n",
    "            knn_estimate_test.append(knn(train, test_point, max_k))\n",
    "        for i_train, train_point in enumerate(train):\n",
    "            knn_estimate_train.append(knn(train, train_point, max_k))\n",
    "\n",
    "        train_actual = extract_column(train, len(train[0]) - 1)\n",
    "        train_mse.insert(0, mse(train_actual, knn_estimate_train))\n",
    "\n",
    "        test_actual = extract_column(test, len(test[0]) - 1)\n",
    "        test_mse.insert(0, mse(test_actual, knn_estimate_test))\n",
    "        max_k -= 1\n",
    "    return train_mse, test_mse"
   ]
  },
  {
   "cell_type": "code",
   "execution_count": 31,
   "metadata": {},
   "outputs": [],
   "source": [
    "graph = validation_curves(folds, 15, 0)"
   ]
  },
  {
   "cell_type": "code",
   "execution_count": 32,
   "metadata": {},
   "outputs": [
    {
     "data": {
      "text/plain": [
       "<function matplotlib.pyplot.show(close=None, block=None)>"
      ]
     },
     "execution_count": 32,
     "metadata": {},
     "output_type": "execute_result"
    },
    {
     "data": {
      "image/png": "[encoded data removed]",
      "text/plain": [
       "<Figure size 640x480 with 1 Axes>"
      ]
     },
     "metadata": {},
     "output_type": "display_data"
    }
   ],
   "source": [
    "x = [i + 1 for i, x in enumerate(graph[0])]\n",
    "plt.plot(x, graph[1], label=\"Test\")\n",
    "plt.plot(x, graph[0], label=\"Train\")\n",
    "plt.legend()\n",
    "plt.xlabel(\"k value\")\n",
    "plt.ylabel(\"MSE\")\n",
    "plt.show"
   ]
  },
  {
   "cell_type": "markdown",
   "metadata": {},
   "source": [
    "**Performance Discussion**\n",
    "\n",
    "Depending on how the data is sliced the results from the validation curve can vary quite a bit. Overall, the best performance seems to be around k=2-6 for the test data. The training data error always increases with higher k since there are more values to average over. With k=1 the error is zero for the training data since knn can find istelf as the nearest neighbor. With k values over 6 the error increases for the test data as well since a larger population is being avaluated to find an average which could incorporate outliers to reach the required 5+ neighbors."
   ]
  },
  {
   "cell_type": "markdown",
   "metadata": {},
   "source": [
    "## Q4: Generalization Error"
   ]
  },
  {
   "cell_type": "code",
   "execution_count": 33,
   "metadata": {},
   "outputs": [
    {
     "name": "stdout",
     "output_type": "stream",
     "text": [
      "Fold 1 mean squared error: 78.22\n",
      "Fold 2 mean squared error: 94.34\n",
      "Fold 3 mean squared error: 53.27\n",
      "Fold 4 mean squared error: 69.75\n",
      "Fold 5 mean squared error: 80.62\n",
      "Fold 6 mean squared error: 106.84\n",
      "Fold 7 mean squared error: 76.92\n",
      "Fold 8 mean squared error: 61.39\n",
      "Fold 9 mean squared error: 109.50\n",
      "Fold 10 mean squared error: 56.30\n",
      "Average mean squared error: 78.72\n"
     ]
    }
   ],
   "source": [
    "knn_five = knn_performance(folds, 5, False)"
   ]
  },
  {
   "cell_type": "code",
   "execution_count": 34,
   "metadata": {},
   "outputs": [
    {
     "name": "stdout",
     "output_type": "stream",
     "text": [
      "The difference in performance between k=9 and k=5 is: 9.60\n"
     ]
    }
   ],
   "source": [
    "print(\n",
    "    f\"The difference in performance between k=9 and k=5 is: {(knn_nine[1] - knn_five[1]):0.2f}\"\n",
    ")\n"
   ]
  },
  {
   "cell_type": "markdown",
   "metadata": {},
   "source": [
    "**Performance Discussion**\n",
    "\n",
    "The results show that k=5 performed better than k=9 by a slight margin. This might change a bit depending on how the folds fall out but overall they should have similar performance until the k values get fairly large."
   ]
  },
  {
   "cell_type": "markdown",
   "metadata": {},
   "source": [
    "## Q5: Choose your own adventure\n",
    "\n",
    "You have three options for the next part:\n",
    "\n",
    "1. You can implement mean normalization (also called \"z-score standardization\") of the *features*; do not normalize the target, y. See if this improves the generalization error of your model (middle).\n",
    "\n",
    "2. You can implement *learning curves* to see if more data would likely improve your model (easiest).\n",
    "\n",
    "3. You can implement *weighted* kNN and use the real valued GA to choose the weights. weighted kNN assigns a weight to each item in the Euclidean distance calculation. For two points, j and k:\n",
    "$$\\sqrt{\\sum w_i (x^k_i - x^j_i)^2}$$\n",
    "\n",
    "You can think of normal Euclidean distance as the case where $w_i = 1$ for all features  (ambitious, but fun...you need to start EARLY because it takes a really long time to run).\n",
    "\n",
    "The easier the adventure the more correct it must be..."
   ]
  },
  {
   "cell_type": "markdown",
   "metadata": {},
   "source": [
    "<a id=\"learning_curves\"></a>\n",
    "### learning_curves\n",
    "\n",
    "`learning_curves` generates the mse for train and test data based on cycling through various quantities of data. **Uses**: [knn_performance](#knn_performance)\n",
    "\n",
    "* **data** data: Tuple[List[List]]: the list all the available data\n",
    "\n",
    "**return** List[List]: the mse for test and train data"
   ]
  },
  {
   "cell_type": "code",
   "execution_count": 35,
   "metadata": {},
   "outputs": [],
   "source": [
    "def learning_curves(data: Tuple[List[List]]):\n",
    "    knn_curves = []\n",
    "    percent = 0.1\n",
    "    while percent <= 1:\n",
    "        _data = data[: int(len(data) * percent)]\n",
    "        folds = create_folds(_data, 10)\n",
    "        knn_curves.append(knn_performance(folds, 5, True))\n",
    "        print(f\"MSE for percent data {percent:0.1f}\")\n",
    "        print()\n",
    "        percent += 0.1\n",
    "    return knn_curves"
   ]
  },
  {
   "cell_type": "code",
   "execution_count": 36,
   "metadata": {},
   "outputs": [
    {
     "name": "stdout",
     "output_type": "stream",
     "text": [
      "Fold 1 mean squared error: 124.34\n",
      "Fold 2 mean squared error: 175.89\n",
      "Fold 3 mean squared error: 282.40\n",
      "Fold 4 mean squared error: 227.75\n",
      "Fold 5 mean squared error: 213.08\n",
      "Fold 6 mean squared error: 128.56\n",
      "Fold 7 mean squared error: 111.30\n",
      "Fold 8 mean squared error: 228.56\n",
      "Fold 9 mean squared error: 136.08\n",
      "Fold 10 mean squared error: 258.83\n",
      "Average mean squared error: 188.68\n",
      "MSE for percent data 0.1\n",
      "\n",
      "Fold 1 mean squared error: 136.64\n",
      "Fold 2 mean squared error: 202.26\n",
      "Fold 3 mean squared error: 186.06\n",
      "Fold 4 mean squared error: 105.96\n",
      "Fold 5 mean squared error: 204.47\n",
      "Fold 6 mean squared error: 151.55\n",
      "Fold 7 mean squared error: 114.03\n",
      "Fold 8 mean squared error: 115.03\n",
      "Fold 9 mean squared error: 173.20\n",
      "Fold 10 mean squared error: 209.93\n",
      "Average mean squared error: 159.91\n",
      "MSE for percent data 0.2\n",
      "\n",
      "Fold 1 mean squared error: 133.56\n",
      "Fold 2 mean squared error: 176.39\n",
      "Fold 3 mean squared error: 92.30\n",
      "Fold 4 mean squared error: 143.91\n",
      "Fold 5 mean squared error: 115.97\n",
      "Fold 6 mean squared error: 120.18\n",
      "Fold 7 mean squared error: 138.51\n",
      "Fold 8 mean squared error: 98.44\n",
      "Fold 9 mean squared error: 92.32\n",
      "Fold 10 mean squared error: 69.89\n",
      "Average mean squared error: 118.15\n",
      "MSE for percent data 0.3\n",
      "\n",
      "Fold 1 mean squared error: 178.20\n",
      "Fold 2 mean squared error: 99.14\n",
      "Fold 3 mean squared error: 156.55\n",
      "Fold 4 mean squared error: 106.05\n",
      "Fold 5 mean squared error: 177.30\n",
      "Fold 6 mean squared error: 72.89\n",
      "Fold 7 mean squared error: 83.28\n",
      "Fold 8 mean squared error: 65.18\n",
      "Fold 9 mean squared error: 93.95\n",
      "Fold 10 mean squared error: 124.77\n",
      "Average mean squared error: 115.73\n",
      "MSE for percent data 0.4\n",
      "\n",
      "Fold 1 mean squared error: 132.00\n",
      "Fold 2 mean squared error: 100.91\n",
      "Fold 3 mean squared error: 98.76\n",
      "Fold 4 mean squared error: 113.44\n",
      "Fold 5 mean squared error: 70.14\n",
      "Fold 6 mean squared error: 60.83\n",
      "Fold 7 mean squared error: 101.50\n",
      "Fold 8 mean squared error: 99.09\n",
      "Fold 9 mean squared error: 124.79\n",
      "Fold 10 mean squared error: 92.83\n",
      "Average mean squared error: 99.43\n",
      "MSE for percent data 0.5\n",
      "\n",
      "Fold 1 mean squared error: 108.46\n",
      "Fold 2 mean squared error: 100.93\n",
      "Fold 3 mean squared error: 99.80\n",
      "Fold 4 mean squared error: 83.47\n",
      "Fold 5 mean squared error: 54.09\n",
      "Fold 6 mean squared error: 71.03\n",
      "Fold 7 mean squared error: 118.75\n",
      "Fold 8 mean squared error: 96.84\n",
      "Fold 9 mean squared error: 84.33\n",
      "Fold 10 mean squared error: 136.24\n",
      "Average mean squared error: 95.39\n",
      "MSE for percent data 0.6\n",
      "\n",
      "Fold 1 mean squared error: 88.27\n",
      "Fold 2 mean squared error: 103.97\n",
      "Fold 3 mean squared error: 85.47\n",
      "Fold 4 mean squared error: 71.71\n",
      "Fold 5 mean squared error: 62.13\n",
      "Fold 6 mean squared error: 115.34\n",
      "Fold 7 mean squared error: 84.69\n",
      "Fold 8 mean squared error: 70.23\n",
      "Fold 9 mean squared error: 123.67\n",
      "Fold 10 mean squared error: 98.35\n",
      "Average mean squared error: 90.38\n",
      "MSE for percent data 0.7\n",
      "\n",
      "Fold 1 mean squared error: 78.42\n",
      "Fold 2 mean squared error: 105.32\n",
      "Fold 3 mean squared error: 78.86\n",
      "Fold 4 mean squared error: 50.61\n",
      "Fold 5 mean squared error: 79.65\n",
      "Fold 6 mean squared error: 86.05\n",
      "Fold 7 mean squared error: 71.37\n",
      "Fold 8 mean squared error: 117.87\n",
      "Fold 9 mean squared error: 109.72\n",
      "Fold 10 mean squared error: 71.04\n",
      "Average mean squared error: 84.89\n",
      "MSE for percent data 0.8\n",
      "\n",
      "Fold 1 mean squared error: 80.83\n",
      "Fold 2 mean squared error: 95.51\n",
      "Fold 3 mean squared error: 62.87\n",
      "Fold 4 mean squared error: 54.25\n",
      "Fold 5 mean squared error: 94.41\n",
      "Fold 6 mean squared error: 81.42\n",
      "Fold 7 mean squared error: 104.36\n",
      "Fold 8 mean squared error: 120.14\n",
      "Fold 9 mean squared error: 64.63\n",
      "Fold 10 mean squared error: 102.12\n",
      "Average mean squared error: 86.05\n",
      "MSE for percent data 0.9\n",
      "\n",
      "Fold 1 mean squared error: 78.12\n",
      "Fold 2 mean squared error: 94.26\n",
      "Fold 3 mean squared error: 53.27\n",
      "Fold 4 mean squared error: 69.75\n",
      "Fold 5 mean squared error: 80.73\n",
      "Fold 6 mean squared error: 106.84\n",
      "Fold 7 mean squared error: 76.92\n",
      "Fold 8 mean squared error: 61.39\n",
      "Fold 9 mean squared error: 109.50\n",
      "Fold 10 mean squared error: 56.37\n",
      "Average mean squared error: 78.71\n",
      "MSE for percent data 1.0\n",
      "\n"
     ]
    }
   ],
   "source": [
    "learning = learning_curves(data)"
   ]
  },
  {
   "cell_type": "code",
   "execution_count": 37,
   "metadata": {},
   "outputs": [
    {
     "data": {
      "text/plain": [
       "<function matplotlib.pyplot.show(close=None, block=None)>"
      ]
     },
     "execution_count": 37,
     "metadata": {},
     "output_type": "execute_result"
    },
    {
     "data": {
      "image/png": "[encoded data removed]",
      "text/plain": [
       "<Figure size 640x480 with 1 Axes>"
      ]
     },
     "metadata": {},
     "output_type": "display_data"
    }
   ],
   "source": [
    "x = [0.1, 0.2, 0.3, 0.4, 0.5, 0.6, 0.7, 0.8, 0.9, 1]\n",
    "plt.plot(x, learning, label=[\"Train\", \"Test\"])\n",
    "plt.legend()\n",
    "plt.xlabel(\"percent data\")\n",
    "plt.ylabel(\"MSE\")\n",
    "plt.show"
   ]
  },
  {
   "cell_type": "markdown",
   "metadata": {},
   "source": [
    "**Performance Discussion**\n",
    "\n",
    "Based on the learning curves, more data would be helpful for this model since both curves are trending down to a lower MSE. There is still a wide gap between the train and test data so it is likely overfitting to the train data. Also, they haven't converged yet so it isn't in the underfitting case. \n",
    "\n",
    "One thing that still needs to be understood is what an acceptable error rate would be. If the model is already at an acceptable rate with the test data then more data isn't necessary. However, it seems like more data would help to model perform better."
   ]
  }
 ],
 "metadata": {
  "kernelspec": {
   "display_name": ".venv",
   "language": "python",
   "name": "python3"
  },
  "language_info": {
   "codemirror_mode": {
    "name": "ipython",
    "version": 3
   },
   "file_extension": ".py",
   "mimetype": "text/x-python",
   "name": "python",
   "nbconvert_exporter": "python",
   "pygments_lexer": "ipython3",
   "version": "3.12.0"
  },
  "toc": {
   "colors": {
    "hover_highlight": "#DAA520",
    "navigate_num": "#000000",
    "navigate_text": "#333333",
    "running_highlight": "#FF0000",
    "selected_highlight": "#FFD700",
    "sidebar_border": "#EEEEEE",
    "wrapper_background": "#FFFFFF"
   },
   "moveMenuLeft": true,
   "nav_menu": {
    "height": "117px",
    "width": "252px"
   },
   "navigate_menu": true,
   "number_sections": true,
   "sideBar": true,
   "threshold": 4,
   "toc_cell": false,
   "toc_section_display": "block",
   "toc_window_display": false,
   "widenNotebook": false
  }
 },
 "nbformat": 4,
 "nbformat_minor": 4
}
